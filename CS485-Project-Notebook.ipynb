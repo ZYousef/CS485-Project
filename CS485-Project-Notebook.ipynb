{
 "cells": [
  {
   "cell_type": "markdown",
   "id": "40301bd7",
   "metadata": {},
   "source": [
    "\n",
    "![logo](./kfupm-logo.png)\n",
    "## <center> ICS 485: Machine Learning\n",
    "### <center> <font color=crimson> App Review Classification\n",
    "<hr>"
   ]
  },
  {
   "cell_type": "markdown",
   "id": "14c79146",
   "metadata": {},
   "source": [
    "\n",
    "<center>\n",
    "         <font color=\"pink\" size=5> Team Members\n",
    "        \n",
    "        # Mawiah Alboainain\n",
    "        # Yousef Alzahrani\n",
    " <hr>"
   ]
  },
  {
   "cell_type": "markdown",
   "id": "c6e51b01",
   "metadata": {},
   "source": [
    "\n",
    "    \n",
    "    \n",
    "Table of Contents\n",
    "* [Exploratory Analysis](#first-bullet)\n",
    "* [Imbalanced Data](#fourth-bullet)\n",
    "* [Evaluation Measures](#fifth-bullet)\n",
    "* [Classifiers](#sixth-bullet)\n",
    "* [Hyper-parameter Tuning ](#seventh-bullet)\n",
    "* [Error Analysis](#eighth-bullet)\n",
    "* [Results](#ninth-bullet)\n",
    "* [Conclusion](#tenth-bullet)\n"
   ]
  },
  {
   "cell_type": "code",
   "execution_count": 1,
   "id": "6d7104ab",
   "metadata": {},
   "outputs": [],
   "source": [
    "import pandas as pd\n",
    "import numpy as np\n",
    "import re\n",
    "import matplotlib.pyplot as plt\n",
    "\n",
    "from sklearn.feature_extraction.text import TfidfVectorizer\n",
    "from sklearn.feature_selection import chi2\n",
    "\n",
    "from sklearn.model_selection import train_test_split\n",
    "from sklearn.feature_extraction.text import CountVectorizer\n",
    "from sklearn.feature_extraction.text import TfidfTransformer\n",
    "from sklearn.naive_bayes import MultinomialNB\n",
    "from sklearn.linear_model import LogisticRegression\n",
    "from sklearn.pipeline import Pipeline\n",
    "\n",
    "#text editing libraries\n",
    "import nlpaug\n",
    "import nlpaug.augmenter.word as naw\n",
    "from nltk.stem import WordNetLemmatizer\n",
    "from nltk import word_tokenize\n",
    "\n"
   ]
  },
  {
   "cell_type": "markdown",
   "id": "5a74838e",
   "metadata": {},
   "source": [
    "## Helper Methods"
   ]
  },
  {
   "cell_type": "code",
   "execution_count": 4,
   "id": "49f1cb69",
   "metadata": {},
   "outputs": [],
   "source": [
    "def clean_text(text):\n",
    "    text = re.sub(\"[^a-zA-Z]\",\" \",str(text)) #force string\n",
    "    text = re.sub(r\"(^|\\W)\\d+\", \"\", text)\n",
    "    text = text.lower()\n",
    "    lemmatizer=WordNetLemmatizer()\n",
    "    text=word_tokenize(text)\n",
    "    tmp =''\n",
    "    for word in text:\n",
    "        tmp+=lemmatizer.lemmatize(word)+' '\n",
    "    text = tmp\n",
    "    \n",
    "    text = re.sub(r\"what's\", \"what is \", text)\n",
    "    text = re.sub(r\"\\'s\", \" \", text)\n",
    "    text = re.sub(r\"\\'ve\", \" have \", text)\n",
    "    text = re.sub(r\"can't\", \"can not \", text)\n",
    "    text = re.sub(r\"n't\", \" not \", text)\n",
    "    text = re.sub(r\"i'm\", \"i am \", text)\n",
    "    text = re.sub(r\"\\'re\", \" are \", text)\n",
    "    text = re.sub(r\"\\'d\", \" would \", text)\n",
    "    text = re.sub(r\"\\'ll\", \" will \", text)\n",
    "    text = re.sub(r\"\\'scuse\", \" excuse \", text)\n",
    "    text = re.sub('\\W', ' ', text)\n",
    "    text = re.sub('\\s+', ' ', text)\n",
    "    text = text.strip(' ')\n",
    "    return text"
   ]
  },
  {
   "cell_type": "code",
   "execution_count": 5,
   "id": "826a5a55",
   "metadata": {},
   "outputs": [],
   "source": [
    "aug = naw.SynonymAug(aug_src='wordnet',aug_max=10)   \n",
    "def text_augment(text):\n",
    "    return aug.augment(text,n=1)"
   ]
  },
  {
   "cell_type": "code",
   "execution_count": 19,
   "id": "3a7fa288",
   "metadata": {},
   "outputs": [],
   "source": [
    "def undersample(df):\n",
    "    classes = df.label.value_counts().to_dict()\n",
    "    downsize = min(classes.values())\n",
    "    classes_list = []\n",
    "    for key in classes:\n",
    "        classes_list.append(df[df['label'] == key]) \n",
    "    classes_sample = []\n",
    "    for i in range(0,len(classes_list)):\n",
    "        classes_sample.append(classes_list[i].sample(downsize, replace=True))\n",
    "    df_maybe = pd.concat(classes_sample)\n",
    "    final_df = pd.concat([df_maybe], axis=0)\n",
    "    final_df = final_df.reset_index(drop=True)\n",
    "    return final_df"
   ]
  },
  {
   "cell_type": "code",
   "execution_count": 18,
   "id": "15a38c22",
   "metadata": {},
   "outputs": [],
   "source": [
    "def oversample(df):\n",
    "    classes = df.label.value_counts().to_dict()\n",
    "    most = max(classes.values())\n",
    "    to_augment =  max(classes.values()) - np.array(list(classes.values()))\n",
    "    classes_list = []\n",
    "    for key in classes:\n",
    "        classes_list.append(df[df['label'] == key]) \n",
    "    classes_sample = []\n",
    "    for i in range(1,len(classes_list)):\n",
    "        to_paraphrase = classes_list[i].sample(to_augment[i], replace=True)\n",
    "        to_paraphrase.review = to_paraphrase.apply(lambda x: text_augment(x['review']), axis=1)\n",
    "        classes_sample.append(to_paraphrase)\n",
    "    df_maybe = pd.concat(classes_sample)\n",
    "    final_df = pd.concat([df_maybe,classes_list[0],classes_list[1],classes_list[2],classes_list[3]], axis=0)\n",
    "    final_df = final_df.reset_index(drop=True)\n",
    "    return final_df"
   ]
  },
  {
   "cell_type": "code",
   "execution_count": 20,
   "id": "9cea40d7",
   "metadata": {},
   "outputs": [],
   "source": [
    "dataset_url = \"https://raw.githubusercontent.com/ZYousef/CS485-Project/main/AppReviews-FourClasses.csv\"\n",
    "df = pd.read_csv(dataset_url)"
   ]
  },
  {
   "cell_type": "markdown",
   "id": "0e7da152",
   "metadata": {},
   "source": [
    "## <center><font color=purple> 1. Exploratory Data Analysis<a class=\"anchor\" id=\"first-bullet\"></a>\n",
    "<hr>"
   ]
  },
  {
   "cell_type": "markdown",
   "id": "025a8cbe",
   "metadata": {},
   "source": [
    "### <font color=blue> A. Dataset Analysis & Important Statistics"
   ]
  },
  {
   "cell_type": "code",
   "execution_count": null,
   "id": "40fc8f35",
   "metadata": {},
   "outputs": [],
   "source": [
    "#Dataset analysis and report on important statistics"
   ]
  },
  {
   "cell_type": "code",
   "execution_count": 6,
   "id": "63c25050",
   "metadata": {
    "scrolled": false
   },
   "outputs": [
    {
     "data": {
      "text/html": [
       "<div>\n",
       "<style scoped>\n",
       "    .dataframe tbody tr th:only-of-type {\n",
       "        vertical-align: middle;\n",
       "    }\n",
       "\n",
       "    .dataframe tbody tr th {\n",
       "        vertical-align: top;\n",
       "    }\n",
       "\n",
       "    .dataframe thead th {\n",
       "        text-align: right;\n",
       "    }\n",
       "</style>\n",
       "<table border=\"1\" class=\"dataframe\">\n",
       "  <thead>\n",
       "    <tr style=\"text-align: right;\">\n",
       "      <th></th>\n",
       "      <th>review</th>\n",
       "      <th>label</th>\n",
       "    </tr>\n",
       "  </thead>\n",
       "  <tbody>\n",
       "    <tr>\n",
       "      <th>0</th>\n",
       "      <td>Besides the occasional crash, this is an amazi...</td>\n",
       "      <td>Bug</td>\n",
       "    </tr>\n",
       "    <tr>\n",
       "      <th>1</th>\n",
       "      <td>This could be a great app if it was predictabl...</td>\n",
       "      <td>Bug</td>\n",
       "    </tr>\n",
       "    <tr>\n",
       "      <th>2</th>\n",
       "      <td>I can't open since the last 2 updates Pop-ups ...</td>\n",
       "      <td>Bug</td>\n",
       "    </tr>\n",
       "    <tr>\n",
       "      <th>3</th>\n",
       "      <td>Use to love this app but it's not working afte...</td>\n",
       "      <td>Bug</td>\n",
       "    </tr>\n",
       "    <tr>\n",
       "      <th>4</th>\n",
       "      <td>Urrrrm\\tAfter my third re installing, it final...</td>\n",
       "      <td>Bug</td>\n",
       "    </tr>\n",
       "  </tbody>\n",
       "</table>\n",
       "</div>"
      ],
      "text/plain": [
       "                                              review label\n",
       "0  Besides the occasional crash, this is an amazi...   Bug\n",
       "1  This could be a great app if it was predictabl...   Bug\n",
       "2  I can't open since the last 2 updates Pop-ups ...   Bug\n",
       "3  Use to love this app but it's not working afte...   Bug\n",
       "4  Urrrrm\\tAfter my third re installing, it final...   Bug"
      ]
     },
     "execution_count": 6,
     "metadata": {},
     "output_type": "execute_result"
    }
   ],
   "source": [
    "df.head()"
   ]
  },
  {
   "cell_type": "code",
   "execution_count": 7,
   "id": "20ef7e28",
   "metadata": {
    "scrolled": true
   },
   "outputs": [
    {
     "data": {
      "text/html": [
       "<div>\n",
       "<style scoped>\n",
       "    .dataframe tbody tr th:only-of-type {\n",
       "        vertical-align: middle;\n",
       "    }\n",
       "\n",
       "    .dataframe tbody tr th {\n",
       "        vertical-align: top;\n",
       "    }\n",
       "\n",
       "    .dataframe thead th {\n",
       "        text-align: right;\n",
       "    }\n",
       "</style>\n",
       "<table border=\"1\" class=\"dataframe\">\n",
       "  <thead>\n",
       "    <tr style=\"text-align: right;\">\n",
       "      <th></th>\n",
       "      <th>review</th>\n",
       "      <th>label</th>\n",
       "    </tr>\n",
       "  </thead>\n",
       "  <tbody>\n",
       "    <tr>\n",
       "      <th>count</th>\n",
       "      <td>3733</td>\n",
       "      <td>3733</td>\n",
       "    </tr>\n",
       "    <tr>\n",
       "      <th>unique</th>\n",
       "      <td>3217</td>\n",
       "      <td>4</td>\n",
       "    </tr>\n",
       "    <tr>\n",
       "      <th>top</th>\n",
       "      <td>Good</td>\n",
       "      <td>Rating</td>\n",
       "    </tr>\n",
       "    <tr>\n",
       "      <th>freq</th>\n",
       "      <td>15</td>\n",
       "      <td>2461</td>\n",
       "    </tr>\n",
       "  </tbody>\n",
       "</table>\n",
       "</div>"
      ],
      "text/plain": [
       "       review   label\n",
       "count    3733    3733\n",
       "unique   3217       4\n",
       "top      Good  Rating\n",
       "freq       15    2461"
      ]
     },
     "execution_count": 7,
     "metadata": {},
     "output_type": "execute_result"
    }
   ],
   "source": [
    "df.describe()"
   ]
  },
  {
   "cell_type": "markdown",
   "id": "25efdb2d",
   "metadata": {},
   "source": [
    "We have 3733 reviews, 3217 of them are unique."
   ]
  },
  {
   "cell_type": "code",
   "execution_count": 8,
   "id": "421ee743",
   "metadata": {
    "scrolled": true
   },
   "outputs": [
    {
     "name": "stdout",
     "output_type": "stream",
     "text": [
      "<class 'pandas.core.frame.DataFrame'>\n",
      "RangeIndex: 3733 entries, 0 to 3732\n",
      "Data columns (total 2 columns):\n",
      " #   Column  Non-Null Count  Dtype \n",
      "---  ------  --------------  ----- \n",
      " 0   review  3733 non-null   object\n",
      " 1   label   3733 non-null   object\n",
      "dtypes: object(2)\n",
      "memory usage: 58.5+ KB\n"
     ]
    }
   ],
   "source": [
    "df.info()"
   ]
  },
  {
   "cell_type": "code",
   "execution_count": 9,
   "id": "1a4d50e4",
   "metadata": {},
   "outputs": [],
   "source": [
    "samples,classes=df.shape[0],df.nunique()[1]"
   ]
  },
  {
   "cell_type": "code",
   "execution_count": 10,
   "id": "4186f398",
   "metadata": {
    "scrolled": true
   },
   "outputs": [
    {
     "data": {
      "text/plain": [
       "(3733, 4)"
      ]
     },
     "execution_count": 10,
     "metadata": {},
     "output_type": "execute_result"
    }
   ],
   "source": [
    "samples,classes"
   ]
  },
  {
   "cell_type": "markdown",
   "id": "03ade5e8",
   "metadata": {},
   "source": [
    "We have 3733 Samples & 4 unique classes"
   ]
  },
  {
   "cell_type": "code",
   "execution_count": 11,
   "id": "29fe4fe9",
   "metadata": {
    "scrolled": false
   },
   "outputs": [
    {
     "data": {
      "text/plain": [
       "Rating            2461\n",
       "UserExperience     607\n",
       "Bug                370\n",
       "Feature            295\n",
       "Name: label, dtype: int64"
      ]
     },
     "execution_count": 11,
     "metadata": {},
     "output_type": "execute_result"
    }
   ],
   "source": [
    "df.label.value_counts()"
   ]
  },
  {
   "cell_type": "markdown",
   "id": "8af8dbb5",
   "metadata": {},
   "source": [
    "Rating, UserExperience, Bug & Features are the four unique classes. We can also notice an imbalance in classes with Rating dominating by a large margin."
   ]
  },
  {
   "cell_type": "code",
   "execution_count": 12,
   "id": "11c61bd7",
   "metadata": {
    "scrolled": false
   },
   "outputs": [
    {
     "data": {
      "text/plain": [
       "(1491, 238)"
      ]
     },
     "execution_count": 12,
     "metadata": {},
     "output_type": "execute_result"
    }
   ],
   "source": [
    "#Some reviews contains special string such as \\t & \\n for tabs and new line\n",
    "df[df.review.str.contains(\"\\t\")].shape[0],df[df.review.str.contains(\"\\n\")].shape[0]"
   ]
  },
  {
   "cell_type": "code",
   "execution_count": 13,
   "id": "ed4672d4",
   "metadata": {},
   "outputs": [],
   "source": [
    "df.review = df.review.str.replace(\"\\n\",\" \")\n",
    "df.review = df.review.str.replace(\"\\t\",\" \")"
   ]
  },
  {
   "cell_type": "code",
   "execution_count": 14,
   "id": "eb6524c8",
   "metadata": {},
   "outputs": [
    {
     "data": {
      "text/plain": [
       "(0, 0)"
      ]
     },
     "execution_count": 14,
     "metadata": {},
     "output_type": "execute_result"
    }
   ],
   "source": [
    "df[df.review.str.contains(\"\\t\")].shape[0],df[df.review.str.contains(\"\\n\")].shape[0]"
   ]
  },
  {
   "cell_type": "code",
   "execution_count": 15,
   "id": "a9616465",
   "metadata": {
    "scrolled": true
   },
   "outputs": [
    {
     "data": {
      "text/html": [
       "<div>\n",
       "<style scoped>\n",
       "    .dataframe tbody tr th:only-of-type {\n",
       "        vertical-align: middle;\n",
       "    }\n",
       "\n",
       "    .dataframe tbody tr th {\n",
       "        vertical-align: top;\n",
       "    }\n",
       "\n",
       "    .dataframe thead th {\n",
       "        text-align: right;\n",
       "    }\n",
       "</style>\n",
       "<table border=\"1\" class=\"dataframe\">\n",
       "  <thead>\n",
       "    <tr style=\"text-align: right;\">\n",
       "      <th></th>\n",
       "      <th>review</th>\n",
       "      <th>label</th>\n",
       "    </tr>\n",
       "  </thead>\n",
       "  <tbody>\n",
       "    <tr>\n",
       "      <th>223</th>\n",
       "      <td>The white app icon is so atrocious, I'm hiding...</td>\n",
       "      <td>Bug</td>\n",
       "    </tr>\n",
       "    <tr>\n",
       "      <th>714</th>\n",
       "      <td>Nice</td>\n",
       "      <td>Rating</td>\n",
       "    </tr>\n",
       "    <tr>\n",
       "      <th>752</th>\n",
       "      <td>Good Good</td>\n",
       "      <td>Rating</td>\n",
       "    </tr>\n",
       "    <tr>\n",
       "      <th>786</th>\n",
       "      <td>Good</td>\n",
       "      <td>Rating</td>\n",
       "    </tr>\n",
       "    <tr>\n",
       "      <th>820</th>\n",
       "      <td>Ok</td>\n",
       "      <td>Rating</td>\n",
       "    </tr>\n",
       "    <tr>\n",
       "      <th>...</th>\n",
       "      <td>...</td>\n",
       "      <td>...</td>\n",
       "    </tr>\n",
       "    <tr>\n",
       "      <th>3060</th>\n",
       "      <td>Good Cool</td>\n",
       "      <td>Rating</td>\n",
       "    </tr>\n",
       "    <tr>\n",
       "      <th>3063</th>\n",
       "      <td>Ok Ok</td>\n",
       "      <td>Rating</td>\n",
       "    </tr>\n",
       "    <tr>\n",
       "      <th>3075</th>\n",
       "      <td>Great app</td>\n",
       "      <td>Rating</td>\n",
       "    </tr>\n",
       "    <tr>\n",
       "      <th>3085</th>\n",
       "      <td>Ok</td>\n",
       "      <td>Rating</td>\n",
       "    </tr>\n",
       "    <tr>\n",
       "      <th>3095</th>\n",
       "      <td>Excellent Excellent</td>\n",
       "      <td>Rating</td>\n",
       "    </tr>\n",
       "  </tbody>\n",
       "</table>\n",
       "<p>138 rows × 2 columns</p>\n",
       "</div>"
      ],
      "text/plain": [
       "                                                 review   label\n",
       "223   The white app icon is so atrocious, I'm hiding...     Bug\n",
       "714                                                Nice  Rating\n",
       "752                                           Good Good  Rating\n",
       "786                                                Good  Rating\n",
       "820                                                  Ok  Rating\n",
       "...                                                 ...     ...\n",
       "3060                                          Good Cool  Rating\n",
       "3063                                              Ok Ok  Rating\n",
       "3075                                          Great app  Rating\n",
       "3085                                                 Ok  Rating\n",
       "3095                                Excellent Excellent  Rating\n",
       "\n",
       "[138 rows x 2 columns]"
      ]
     },
     "execution_count": 15,
     "metadata": {},
     "output_type": "execute_result"
    }
   ],
   "source": [
    "#Dealing with duplicated data\n",
    "df[df.duplicated()]"
   ]
  },
  {
   "cell_type": "markdown",
   "id": "ded9ec7b",
   "metadata": {},
   "source": [
    "We notice 137 entries are duplicated"
   ]
  },
  {
   "cell_type": "code",
   "execution_count": 16,
   "id": "b50bd0e7",
   "metadata": {
    "scrolled": false
   },
   "outputs": [],
   "source": [
    "df.drop_duplicates(inplace=True)"
   ]
  },
  {
   "cell_type": "code",
   "execution_count": 17,
   "id": "0c5ba7d2",
   "metadata": {
    "scrolled": false
   },
   "outputs": [
    {
     "data": {
      "text/html": [
       "<div>\n",
       "<style scoped>\n",
       "    .dataframe tbody tr th:only-of-type {\n",
       "        vertical-align: middle;\n",
       "    }\n",
       "\n",
       "    .dataframe tbody tr th {\n",
       "        vertical-align: top;\n",
       "    }\n",
       "\n",
       "    .dataframe thead th {\n",
       "        text-align: right;\n",
       "    }\n",
       "</style>\n",
       "<table border=\"1\" class=\"dataframe\">\n",
       "  <thead>\n",
       "    <tr style=\"text-align: right;\">\n",
       "      <th></th>\n",
       "      <th>review</th>\n",
       "      <th>label</th>\n",
       "    </tr>\n",
       "  </thead>\n",
       "  <tbody>\n",
       "  </tbody>\n",
       "</table>\n",
       "</div>"
      ],
      "text/plain": [
       "Empty DataFrame\n",
       "Columns: [review, label]\n",
       "Index: []"
      ]
     },
     "execution_count": 17,
     "metadata": {},
     "output_type": "execute_result"
    }
   ],
   "source": [
    "df[df.duplicated()]"
   ]
  },
  {
   "cell_type": "code",
   "execution_count": 18,
   "id": "b3862e0f",
   "metadata": {
    "scrolled": true
   },
   "outputs": [
    {
     "data": {
      "image/png": "[encoded data removed]",
      "text/plain": [
       "<Figure size 432x288 with 1 Axes>"
      ]
     },
     "metadata": {
      "needs_background": "light"
     },
     "output_type": "display_data"
    }
   ],
   "source": [
    "df.label.hist();"
   ]
  },
  {
   "cell_type": "code",
   "execution_count": 19,
   "id": "c6bc0807",
   "metadata": {
    "scrolled": true
   },
   "outputs": [
    {
     "data": {
      "text/plain": [
       "Rating            2324\n",
       "UserExperience     607\n",
       "Bug                369\n",
       "Feature            295\n",
       "Name: label, dtype: int64"
      ]
     },
     "execution_count": 19,
     "metadata": {},
     "output_type": "execute_result"
    }
   ],
   "source": [
    " df.label.value_counts()"
   ]
  },
  {
   "cell_type": "code",
   "execution_count": 20,
   "id": "0801c2d2",
   "metadata": {
    "scrolled": false
   },
   "outputs": [
    {
     "data": {
      "text/plain": [
       "Rating            2324\n",
       "UserExperience     607\n",
       "Bug                369\n",
       "Feature            295\n",
       "Name: label, dtype: int64"
      ]
     },
     "execution_count": 20,
     "metadata": {},
     "output_type": "execute_result"
    }
   ],
   "source": [
    " df.label.value_counts()"
   ]
  },
  {
   "cell_type": "markdown",
   "id": "d64299b2",
   "metadata": {},
   "source": [
    "## <center><font color=purple>4. Imbalanced Data<a class=\"anchor\" id=\"fourth-bullet\"></a>\n",
    "<hr>"
   ]
  },
  {
   "cell_type": "markdown",
   "id": "2cfc3d25",
   "metadata": {},
   "source": [
    "**The next few cells is method used in dealing with imbalanced data**\n",
    "\n",
    "<font color=purple>\n",
    "    \n",
    "We've attempted 5 different blanacing techniques, simple Undersampling & Oversampling, Random Undersampling & Oversampling, and finally text augmentation using a paraphrasing library."
   ]
  },
  {
   "cell_type": "code",
   "execution_count": 21,
   "id": "f649902d",
   "metadata": {
    "scrolled": true
   },
   "outputs": [
    {
     "data": {
      "text/plain": [
       "3684"
      ]
     },
     "execution_count": 21,
     "metadata": {},
     "output_type": "execute_result"
    }
   ],
   "source": [
    "#Blanaces the data and makes sure new aguments data duplicates are <=25 or reached limit\n",
    "df_balanced = oversample(df)\n",
    "dups = df_balanced.duplicated().sum()\n",
    "num_iter=0\n",
    "while num_iter < 10 & dups > 25 :\n",
    "    df_balanced.drop_duplicates(inplace=True)\n",
    "    df_balanced = oversample(df)\n",
    "    dups = df_balanced.duplicated().sum()\n",
    "    num_iter+=1\n",
    "#Make sure original dataset is embedded \n",
    "pd.merge(df,df_balanced,how='inner').shape[0]"
   ]
  },
  {
   "cell_type": "code",
   "execution_count": 22,
   "id": "ad2a4301",
   "metadata": {},
   "outputs": [],
   "source": [
    "df_balanced.to_csv('balanced.csv',index=False)"
   ]
  },
  {
   "cell_type": "code",
   "execution_count": 23,
   "id": "6d7a9dce",
   "metadata": {},
   "outputs": [],
   "source": [
    "df_balanced = pd.read_csv('balanced.csv')"
   ]
  },
  {
   "cell_type": "code",
   "execution_count": 24,
   "id": "b56ea6eb",
   "metadata": {
    "scrolled": true
   },
   "outputs": [
    {
     "data": {
      "text/plain": [
       "UserExperience    2324\n",
       "Bug               2324\n",
       "Feature           2324\n",
       "Rating            2324\n",
       "Name: label, dtype: int64"
      ]
     },
     "execution_count": 24,
     "metadata": {},
     "output_type": "execute_result"
    }
   ],
   "source": [
    "df_balanced.label.value_counts()"
   ]
  },
  {
   "cell_type": "markdown",
   "id": "912316af",
   "metadata": {},
   "source": [
    "**All classes with the same amount of data (2324)**"
   ]
  },
  {
   "cell_type": "markdown",
   "id": "73d5dd8c",
   "metadata": {},
   "source": [
    "### <font color=blue> B. Correlation Analysis"
   ]
  },
  {
   "cell_type": "code",
   "execution_count": 25,
   "id": "92e29bf2",
   "metadata": {},
   "outputs": [],
   "source": [
    "df_balanced.review = df_balanced.apply(lambda x: clean_text(x['review']), axis=1)"
   ]
  },
  {
   "cell_type": "code",
   "execution_count": 26,
   "id": "101bc142",
   "metadata": {},
   "outputs": [
    {
     "data": {
      "text/html": [
       "<div>\n",
       "<style scoped>\n",
       "    .dataframe tbody tr th:only-of-type {\n",
       "        vertical-align: middle;\n",
       "    }\n",
       "\n",
       "    .dataframe tbody tr th {\n",
       "        vertical-align: top;\n",
       "    }\n",
       "\n",
       "    .dataframe thead th {\n",
       "        text-align: right;\n",
       "    }\n",
       "</style>\n",
       "<table border=\"1\" class=\"dataframe\">\n",
       "  <thead>\n",
       "    <tr style=\"text-align: right;\">\n",
       "      <th></th>\n",
       "      <th>count</th>\n",
       "      <th>mean</th>\n",
       "      <th>std</th>\n",
       "      <th>min</th>\n",
       "      <th>25%</th>\n",
       "      <th>50%</th>\n",
       "      <th>75%</th>\n",
       "      <th>max</th>\n",
       "    </tr>\n",
       "    <tr>\n",
       "      <th>label</th>\n",
       "      <th></th>\n",
       "      <th></th>\n",
       "      <th></th>\n",
       "      <th></th>\n",
       "      <th></th>\n",
       "      <th></th>\n",
       "      <th></th>\n",
       "      <th></th>\n",
       "    </tr>\n",
       "  </thead>\n",
       "  <tbody>\n",
       "    <tr>\n",
       "      <th>Bug</th>\n",
       "      <td>2324.0</td>\n",
       "      <td>40.406196</td>\n",
       "      <td>36.205128</td>\n",
       "      <td>2.0</td>\n",
       "      <td>19.0</td>\n",
       "      <td>31.0</td>\n",
       "      <td>49.0</td>\n",
       "      <td>278.0</td>\n",
       "    </tr>\n",
       "    <tr>\n",
       "      <th>Feature</th>\n",
       "      <td>2324.0</td>\n",
       "      <td>37.811102</td>\n",
       "      <td>35.534369</td>\n",
       "      <td>3.0</td>\n",
       "      <td>18.0</td>\n",
       "      <td>29.5</td>\n",
       "      <td>45.0</td>\n",
       "      <td>277.0</td>\n",
       "    </tr>\n",
       "    <tr>\n",
       "      <th>Rating</th>\n",
       "      <td>2324.0</td>\n",
       "      <td>13.885972</td>\n",
       "      <td>19.373360</td>\n",
       "      <td>0.0</td>\n",
       "      <td>3.0</td>\n",
       "      <td>7.0</td>\n",
       "      <td>17.0</td>\n",
       "      <td>272.0</td>\n",
       "    </tr>\n",
       "    <tr>\n",
       "      <th>UserExperience</th>\n",
       "      <td>2324.0</td>\n",
       "      <td>33.649312</td>\n",
       "      <td>30.247588</td>\n",
       "      <td>1.0</td>\n",
       "      <td>13.0</td>\n",
       "      <td>25.0</td>\n",
       "      <td>45.0</td>\n",
       "      <td>260.0</td>\n",
       "    </tr>\n",
       "  </tbody>\n",
       "</table>\n",
       "</div>"
      ],
      "text/plain": [
       "                 count       mean        std  min   25%   50%   75%    max\n",
       "label                                                                     \n",
       "Bug             2324.0  40.406196  36.205128  2.0  19.0  31.0  49.0  278.0\n",
       "Feature         2324.0  37.811102  35.534369  3.0  18.0  29.5  45.0  277.0\n",
       "Rating          2324.0  13.885972  19.373360  0.0   3.0   7.0  17.0  272.0\n",
       "UserExperience  2324.0  33.649312  30.247588  1.0  13.0  25.0  45.0  260.0"
      ]
     },
     "execution_count": 26,
     "metadata": {},
     "output_type": "execute_result"
    }
   ],
   "source": [
    "df_balanced['review'].str.lower().str.split().apply(len).groupby(df_balanced.label).describe()"
   ]
  },
  {
   "cell_type": "code",
   "execution_count": 27,
   "id": "95637fee",
   "metadata": {
    "scrolled": true
   },
   "outputs": [
    {
     "data": {
      "image/png": "[encoded data removed]",
      "text/plain": [
       "<Figure size 432x288 with 1 Axes>"
      ]
     },
     "metadata": {
      "needs_background": "light"
     },
     "output_type": "display_data"
    }
   ],
   "source": [
    "df_balanced['review'].str.lower().str.split().apply(len).groupby(df_balanced.label).hist(legend=True);"
   ]
  },
  {
   "cell_type": "markdown",
   "id": "fb37c879",
   "metadata": {},
   "source": [
    "#### Ratings review are relatively short"
   ]
  },
  {
   "cell_type": "code",
   "execution_count": 28,
   "id": "d556f9bc",
   "metadata": {},
   "outputs": [],
   "source": [
    "df_balanced['label_id'] = df_balanced['label'].factorize()[0] #digitze? label to int\n",
    "label_id_df_balanced = df_balanced[['label', 'label_id']].sort_values('label_id') #sort\n",
    "label_to_id = dict(label_id_df_balanced.values)\n",
    "id_to_label = dict(label_id_df_balanced[['label_id', 'label']].values)"
   ]
  },
  {
   "cell_type": "code",
   "execution_count": 29,
   "id": "3c08908d",
   "metadata": {},
   "outputs": [],
   "source": [
    "X,Y = df_balanced['review'], df_balanced['label']\n",
    "trainx, testx, trainy, testy = train_test_split(X, Y, test_size=0.3, random_state=777)"
   ]
  },
  {
   "cell_type": "code",
   "execution_count": 30,
   "id": "7d1bcf2c",
   "metadata": {
    "scrolled": true
   },
   "outputs": [
    {
     "data": {
      "text/plain": [
       "(6507, 48595)"
      ]
     },
     "execution_count": 30,
     "metadata": {},
     "output_type": "execute_result"
    }
   ],
   "source": [
    "#Text represntation\n",
    "tfidf = TfidfVectorizer(sublinear_tf=True, min_df=1, norm='l2', encoding='latin-1', ngram_range=(1, 2), stop_words='english')\n",
    "features = tfidf.fit_transform(trainx).toarray()\n",
    "labels = trainy.factorize()[0]\n",
    "features.shape"
   ]
  },
  {
   "cell_type": "code",
   "execution_count": 31,
   "id": "0d1772c9",
   "metadata": {
    "scrolled": false
   },
   "outputs": [
    {
     "name": "stdout",
     "output_type": "stream",
     "text": [
      "# 'Bug':\n",
      "  . Most correlated unigrams:\n",
      ". love\n",
      ". game\n",
      "  . Most correlated bigrams:\n",
      ". whatsapp sm\n",
      ". useful easy\n",
      "# 'Feature':\n",
      "  . Most correlated unigrams:\n",
      ". trip\n",
      ". easy\n",
      "  . Most correlated bigrams:\n",
      ". trip advisor\n",
      ". easy use\n",
      "# 'Rating':\n",
      "  . Most correlated unigrams:\n",
      ". nice\n",
      ". good\n",
      "  . Most correlated bigrams:\n",
      ". good good\n",
      ". information technology\n",
      "# 'UserExperience':\n",
      "  . Most correlated unigrams:\n",
      ". fix\n",
      ". crash\n",
      "  . Most correlated bigrams:\n",
      ". update fix\n",
      ". latest update\n"
     ]
    }
   ],
   "source": [
    "N = 2\n",
    "for label, label_id in sorted(label_to_id.items()):\n",
    "  features_chi2 = chi2(features, labels == label_id)\n",
    "  indices = np.argsort(features_chi2[0])\n",
    "  feature_names = np.array(tfidf.get_feature_names())[indices]\n",
    "  unigrams = [v for v in feature_names if len(v.split(' ')) == 1]\n",
    "  bigrams = [v for v in feature_names if len(v.split(' ')) == 2]\n",
    "  print(\"# '{}':\".format(label))\n",
    "  print(\"  . Most correlated unigrams:\\n. {}\".format('\\n. '.join(unigrams[-N:])))\n",
    "  print(\"  . Most correlated bigrams:\\n. {}\".format('\\n. '.join(bigrams[-N:])))"
   ]
  },
  {
   "cell_type": "markdown",
   "id": "edb321f0",
   "metadata": {},
   "source": [
    "## <center><font color=purple>5. Evaluation Measures <a class=\"anchor\" id=\"fifth-bullet\"></a>\n",
    "<hr>"
   ]
  },
  {
   "cell_type": "markdown",
   "id": "466888b2",
   "metadata": {},
   "source": [
    "#### In our project we're going to use the classification report provided by sklearn\n",
    "#### It is a performance evaluation metric in machine learning which is used to show the precision, recall, F1 Score, and support score of your trained classification model.\n",
    "    \n",
    "    sklearn.metrics.classification_report\n",
    "#### Check [Documentation](https://scikit-learn.org/stable/modules/generated/sklearn.metrics.classification_report.html#sklearn-metrics-classification-report) for more details \n",
    "\n",
    " "
   ]
  },
  {
   "cell_type": "markdown",
   "id": "01491c78",
   "metadata": {},
   "source": [
    "The reason this report is used because it shows the main classification metrics\n",
    "precision, recall and f1-score on a per-class basis.\n",
    "The metrics are calculated by using true and false positives, true and false negatives.\n",
    "Positive and negative in this case are generic names for the predicted classes."
   ]
  },
  {
   "cell_type": "markdown",
   "id": "ebc2c26d",
   "metadata": {},
   "source": [
    "it measures the quality of predictions from a classification algorithm. How many predictions are True and how many are False. More specifically, True Positives, False Positives, True negatives and False Negatives are used to predict the metrics of a classification report as will be shown below. "
   ]
  },
  {
   "cell_type": "markdown",
   "id": "669a504e",
   "metadata": {},
   "source": [
    "## <center><font color=purple>6. Classifers <a class=\"anchor\" id=\"sixth-bullet\"></a>\n",
    "<hr>"
   ]
  },
  {
   "cell_type": "markdown",
   "id": "2ae03763",
   "metadata": {},
   "source": [
    "* Naive Bayes\n",
    "* Logistic Regression\n",
    "* Support Victor Machines (Linear & SGD)\n",
    "* Random Forest"
   ]
  },
  {
   "cell_type": "markdown",
   "id": "aac9992b",
   "metadata": {},
   "source": [
    "**Naive Bayes**: In statistics, naive Bayes classifiers are a family of simple \"probabilistic classifiers\" based on applying Bayes' theorem with strong independence assumptions between the features. They are among the simplest Bayesian network models, but coupled with kernel density estimation.\n",
    "\n",
    "**Justification**: After doing a lot of research, we found out that \n",
    "The Naive Bayesian classifier consists of performing the below steps –\n",
    "\n",
    "- Create a frequency table based on the words\n",
    "- Calculate the likelihood for each of the classes based on the frequency table\n",
    "- Calculate the posterior probability for each class\n",
    "- The highest posterior probability is the outcome of the prediction experiment\n",
    "\n",
    "All these probabilities are calculated by using the Bayes Theorem and this will help us in our App Reviews Classification problem"
   ]
  },
  {
   "cell_type": "markdown",
   "id": "a1db6592",
   "metadata": {},
   "source": [
    "**Logistic Regression**: Logistic Regression is a Machine Learning algorithm which is used for the classification problems, it is a predictive analysis algorithm and based on the concept of probability. The Logistic Regression uses a more complex cost function, this cost function can be defined as the ‘Sigmoid function’ or also known as the ‘logistic function’ instead of a linear function.\n",
    "\n",
    "**Justification**: After doing a lot of research in text classification, we found out that Logistic regression is a simple and easy to understand classification algorithm, and Logistic regression can be easily generalized to multiple classes. Furthermore, it is widely used in multi-class text classification problems. \n"
   ]
  },
  {
   "cell_type": "markdown",
   "id": "97d62a96",
   "metadata": {},
   "source": [
    "**SVM**: SVM is a supervised machine learning algorithm that can be used for both classification or regression challenges. However,  it is mostly used in classification problems. In the SVM algorithm, we plot each data item as a point in n-dimensional space (where n is a number of features you have) with the value of each feature being the value of a particular coordinate.\n",
    "\n",
    "In its most simple type, SVM doesn’t support multiclass classification natively. It supports binary classification and separating data points into two classes. For multiclass classification, such as, our project, the same principle is utilized after breaking down the multiclassification problem into multiple binary classification problems.\n",
    "\n",
    "**Justification**: After doing a lot of research in text classification, we found out that (SVM) has proven to be an eﬀective multiclass text classiﬁer. \"In 1997 Joachims published results on a set of binary text classiﬁcation experiments using the Support Vector Machine. The SVM yielded lower error than many other classiﬁcation techniques\".\n",
    "\n",
    "Moreover, two other scientists followed two years later with experiments of their own on the same data set. They used improved versions of other classifiers but still found that the SVM performed at least as well as all other classiﬁers they tried, and for that reason we have decided to try both linear SVM & SGD to trsin SVM in our project. "
   ]
  },
  {
   "cell_type": "markdown",
   "id": "4cd50ee4",
   "metadata": {},
   "source": [
    "**Random Forest**: A random forest is a machine learning technique that's used to solve regression and classification problems. It utilizes ensemble learning, which is a technique that combines many classifiers to provide solutions to complex problems. A random forest algorithm consists of many decision trees.\n",
    "\n",
    "**Justification**: Random Forests are an ensemble method which trains a bunch of decision trees (hence the ‘forest’) to try and combat overfitting which decision trees are prone to. It does this by averaging the predictions of the different decision trees which can reduce the variance. Tuning models is all about finding the best balance between bias and variance. "
   ]
  },
  {
   "cell_type": "markdown",
   "id": "5aa26a49",
   "metadata": {},
   "source": [
    "## <center><font color=purple>7. Hyper-parameter Tuning <a class=\"anchor\" id=\"seventh-bullet\"></a>"
   ]
  },
  {
   "cell_type": "markdown",
   "id": "4a967784",
   "metadata": {},
   "source": [
    "#### In this section we've pipelined all of our classifiers to automate the process of tunning the paramters using GridSearchCV , \n",
    "\n",
    "    from sklearn.model_selection import GridSearchCV\n"
   ]
  },
  {
   "cell_type": "markdown",
   "id": "e8086cad",
   "metadata": {},
   "source": [
    "#### If you want to know the results of GridSearchCV use,\n",
    "\n",
    "    clf.best_estimator_"
   ]
  },
  {
   "cell_type": "markdown",
   "id": "b36b639b",
   "metadata": {},
   "source": [
    "## Naive Bayes"
   ]
  },
  {
   "cell_type": "code",
   "execution_count": 32,
   "id": "dbb63c83",
   "metadata": {
    "scrolled": true
   },
   "outputs": [
    {
     "name": "stdout",
     "output_type": "stream",
     "text": [
      "                precision    recall  f1-score   support\n",
      "\n",
      "           Bug     0.8992    0.9692    0.9329       681\n",
      "       Feature     0.8403    0.9582    0.8954       670\n",
      "        Rating     0.8171    0.6059    0.6959       708\n",
      "UserExperience     0.7807    0.8192    0.7995       730\n",
      "\n",
      "      accuracy                         0.8351      2789\n",
      "     macro avg     0.8343    0.8381    0.8309      2789\n",
      "  weighted avg     0.8332    0.8351    0.8288      2789\n",
      "\n"
     ]
    }
   ],
   "source": [
    "from imblearn.pipeline import Pipeline\n",
    "from sklearn.naive_bayes import MultinomialNB\n",
    "from sklearn.feature_extraction.text import CountVectorizer, TfidfTransformer\n",
    "from sklearn.model_selection import train_test_split, GridSearchCV\n",
    "text_clf = Pipeline([('vect', CountVectorizer()),\n",
    "                    ('tfidf', TfidfTransformer()),\n",
    "                    ('clf', MultinomialNB())])\n",
    "tuned_parameters = {\n",
    "    'vect__ngram_range': [(1, 1), (1, 2), (2, 2)],\n",
    "    'vect__stop_words':['english'],\n",
    "    'vect__encoding':['latin-1'],\n",
    "    'vect__min_df':[1,2,3],\n",
    "    'tfidf__use_idf': (True, False),\n",
    "    'tfidf__norm': ('l1', 'l2'),\n",
    "    'clf__alpha': [1, 1e-1, 1e-2,1e-3,1e-4]\n",
    "}\n",
    "#tuned_parameters = {}\n",
    "\n",
    "from sklearn.metrics import classification_report\n",
    "clf = GridSearchCV(text_clf, tuned_parameters, cv=5, scoring=\"accuracy\")\n",
    "clf.fit(trainx, trainy)\n",
    "\n",
    "print(classification_report(testy, clf.predict(testx), digits=4))"
   ]
  },
  {
   "cell_type": "markdown",
   "id": "8e3aa7b5",
   "metadata": {},
   "source": [
    "## Logisitc Regression"
   ]
  },
  {
   "cell_type": "code",
   "execution_count": 40,
   "id": "ab637254",
   "metadata": {
    "scrolled": true
   },
   "outputs": [
    {
     "name": "stdout",
     "output_type": "stream",
     "text": [
      "                precision    recall  f1-score   support\n",
      "\n",
      "           Bug     0.9235    0.9574    0.9402       681\n",
      "       Feature     0.9167    0.9030    0.9098       670\n",
      "        Rating     0.7113    0.7585    0.7341       708\n",
      "UserExperience     0.7934    0.7260    0.7582       730\n",
      "\n",
      "      accuracy                         0.8333      2789\n",
      "     macro avg     0.8362    0.8362    0.8356      2789\n",
      "  weighted avg     0.8339    0.8333    0.8329      2789\n",
      "\n"
     ]
    }
   ],
   "source": [
    "# Using logistic regression as a classification model using Spark\n",
    "# Building the model\n",
    "from pyspark.ml.classification import LogisticRegression\n",
    "from sklearn.metrics import classification_report\n",
    "from sklearn.model_selection import train_test_split, GridSearchCV\n",
    "text_clf = Pipeline([('vect', CountVectorizer()),\n",
    "                ('tfidf', TfidfTransformer()),\n",
    "                ('clf', LogisticRegression(random_state=0, C=1e5)),\n",
    "               ])\n",
    "tuned_parameters = {\n",
    "    'vect__ngram_range': [(1, 1), (1, 2), (2, 2)],\n",
    "    'vect__stop_words':['english'],\n",
    "    'vect__encoding':['latin-1'],\n",
    "    'vect__min_df':[1,2,3],\n",
    "    'tfidf__use_idf': (True, False),\n",
    "    'tfidf__norm': ('l1', 'l2'),\n",
    "    'clf__n_jobs': [1,2],\n",
    "}\n",
    "\n",
    "# Fitting the model built above in the training set and then testing it\n",
    "# and printing different reports along with the accuracy \n",
    "from sklearn.metrics import classification_report\n",
    "clf = GridSearchCV(text_clf, tuned_parameters, cv=5, scoring=\"accuracy\")\n",
    "clf.fit(trainx, trainy)\n",
    "\n",
    "print(classification_report(testy, clf.predict(testx), digits=4))"
   ]
  },
  {
   "cell_type": "markdown",
   "id": "5b31e0b4",
   "metadata": {},
   "source": [
    "## Support Vector Machine (SVM)"
   ]
  },
  {
   "cell_type": "markdown",
   "id": "c72a0e40",
   "metadata": {},
   "source": [
    "#### A) SVM with SGD training"
   ]
  },
  {
   "cell_type": "code",
   "execution_count": 33,
   "id": "e5117e84",
   "metadata": {
    "scrolled": false
   },
   "outputs": [
    {
     "name": "stderr",
     "output_type": "stream",
     "text": []
    },
    {
     "name": "stdout",
     "output_type": "stream",
     "text": [
      "                precision    recall  f1-score   support\n",
      "\n",
      "           Bug     0.9233    0.9721    0.9471       681\n",
      "       Feature     0.8859    0.9731    0.9275       670\n",
      "        Rating     0.8194    0.7048    0.7578       708\n",
      "UserExperience     0.8102    0.8068    0.8085       730\n",
      "\n",
      "      accuracy                         0.8612      2789\n",
      "     macro avg     0.8597    0.8642    0.8602      2789\n",
      "  weighted avg     0.8583    0.8612    0.8580      2789\n",
      "\n"
     ]
    }
   ],
   "source": [
    "from sklearn.metrics import classification_report\n",
    "from sklearn.linear_model import SGDClassifier\n",
    "text_clf = Pipeline([('vect', CountVectorizer()),\n",
    "                ('tfidf', TfidfTransformer()),\n",
    "                ('clf', SGDClassifier(random_state=42)),\n",
    "               ])\n",
    "tuned_parameters = {\n",
    "    'vect__ngram_range': [(1, 1), (1, 2), (2, 2)],\n",
    "    'vect__stop_words':['english'],\n",
    "    'vect__encoding':['latin-1'],\n",
    "    'vect__min_df':[1,2,3],\n",
    "    'tfidf__use_idf': (True, False),\n",
    "    'tfidf__norm': ('l1', 'l2'),\n",
    "    'clf__alpha': [1, 1e-1, 1e-2,1e-3,1e-4],\n",
    "    'clf__loss': ['hinge', 'log', 'modified_huber', 'squared_hinge', 'perceptron'],\n",
    "    'clf__penalty':['l2', 'l1', 'elasticnet'],\n",
    "    'clf__max_iter': [1000,2000,3000]\n",
    "}\n",
    "\n",
    "from sklearn.metrics import classification_report\n",
    "clf = GridSearchCV(text_clf, tuned_parameters, cv=5, scoring=\"accuracy\")\n",
    "clf.fit(trainx, trainy)\n",
    "\n",
    "print(classification_report(testy, clf.predict(testx), digits=4))"
   ]
  },
  {
   "cell_type": "markdown",
   "id": "9054e75d",
   "metadata": {},
   "source": [
    "#### B) Linear SVM"
   ]
  },
  {
   "cell_type": "code",
   "execution_count": 41,
   "id": "93159da9",
   "metadata": {},
   "outputs": [
    {
     "name": "stdout",
     "output_type": "stream",
     "text": [
      "                precision    recall  f1-score   support\n",
      "\n",
      "           Bug     0.9057    0.9736    0.9384       681\n",
      "       Feature     0.9050    0.9522    0.9280       670\n",
      "        Rating     0.7883    0.7415    0.7642       708\n",
      "UserExperience     0.8236    0.7740    0.7980       730\n",
      "\n",
      "      accuracy                         0.8573      2789\n",
      "     macro avg     0.8557    0.8603    0.8572      2789\n",
      "  weighted avg     0.8542    0.8573    0.8549      2789\n",
      "\n"
     ]
    }
   ],
   "source": [
    "from sklearn.metrics import classification_report\n",
    "from sklearn.svm import LinearSVC\n",
    "\n",
    "text_clf = Pipeline([('vect', CountVectorizer()),\n",
    "                ('tfidf', TfidfTransformer()),\n",
    "                ('clf', LinearSVC(random_state=42)),\n",
    "               ])\n",
    "tuned_parameters = {\n",
    "    'vect__ngram_range': [(1, 1), (1, 2), (2, 2)],\n",
    "    'vect__stop_words':['english'],\n",
    "    'vect__encoding':['latin-1'],\n",
    "    'vect__min_df':[1,2,3],\n",
    "    'tfidf__use_idf': (True, False),\n",
    "    'tfidf__norm': ('l1', 'l2'),\n",
    "    'clf__loss': ['hinge', 'log', 'modified_huber', 'squared_hinge', 'perceptron'],\n",
    "    'clf__penalty':['l2', 'l1'],\n",
    "}\n",
    "\n",
    "clf = GridSearchCV(text_clf, tuned_parameters, cv=5, scoring=\"accuracy\")\n",
    "\n",
    "## Testing the model and printing the accuracy\n",
    "regr.fit(trainx, trainy)\n",
    "print(classification_report(testy, regr.predict(testx), digits=4))"
   ]
  },
  {
   "cell_type": "markdown",
   "id": "9bf4c642",
   "metadata": {},
   "source": [
    "# Random Forest "
   ]
  },
  {
   "cell_type": "code",
   "execution_count": 37,
   "id": "4d160929",
   "metadata": {
    "scrolled": false
   },
   "outputs": [
    {
     "name": "stdout",
     "output_type": "stream",
     "text": [
      "                precision    recall  f1-score   support\n",
      "\n",
      "           Bug     0.7397    0.7386    0.7392       681\n",
      "       Feature     0.6787    0.7597    0.7169       670\n",
      "        Rating     0.5967    0.7669    0.6712       708\n",
      "UserExperience     0.7261    0.4466    0.5530       730\n",
      "\n",
      "      accuracy                         0.6744      2789\n",
      "     macro avg     0.6853    0.6780    0.6701      2789\n",
      "  weighted avg     0.6852    0.6744    0.6678      2789\n",
      "\n"
     ]
    }
   ],
   "source": [
    "from sklearn.ensemble import RandomForestClassifier\n",
    "from sklearn.metrics import classification_report\n",
    "from sklearn.model_selection import train_test_split, GridSearchCV\n",
    "text_clf = Pipeline([('vect', CountVectorizer()),\n",
    "                ('tfidf', TfidfTransformer()),\n",
    "                ('clf', RandomForestClassifier(random_state=0)),\n",
    "               ])\n",
    "tuned_parameters = {\n",
    "    'vect__ngram_range': [(1, 1), (1, 2), (2, 2)],\n",
    "    'vect__stop_words':['english'],\n",
    "    'vect__encoding':['latin-1'],\n",
    "    'vect__min_df':[1,2,3],\n",
    "    'tfidf__use_idf': (True, False),\n",
    "    'tfidf__norm': ('l1', 'l2'),\n",
    "    'clf__max_depth': [3,4,5],\n",
    "    'clf__n_estimators':[200, 300],\n",
    "}\n",
    "\n",
    "from sklearn.metrics import classification_report\n",
    "clf = GridSearchCV(text_clf, tuned_parameters, cv=5, scoring=\"accuracy\")\n",
    "clf.fit(trainx, trainy)\n",
    "\n",
    "print(classification_report(testy, clf.predict(testx), digits=4))"
   ]
  },
  {
   "cell_type": "markdown",
   "id": "e34edb14",
   "metadata": {},
   "source": [
    "## <font color=orange> Notes"
   ]
  },
  {
   "cell_type": "markdown",
   "id": "3f34ab59",
   "metadata": {},
   "source": [
    "#### <font color=orange>Undersampling using our method without libraries performed around 43% accuracy.\n",
    "        undersample(df);"
   ]
  },
  {
   "cell_type": "markdown",
   "id": "9aeba1e8",
   "metadata": {},
   "source": [
    "#### <font color=orange>Use,\n",
    "    \n",
    "    from imblearn.over_sampling import RandomOverSampler\n",
    "    from imblearn.under_sampling import RandomUnderSampler\n",
    "#### <font color=orange>Then include it as follows:\n",
    "\n",
    "        text_clf = Pipeline([('vect', CountVectorizer()),\n",
    "                        ('tfidf', TfidfTransformer()),\n",
    "                        ('RUS', RandomOverSampler()),  *OR*  ('RUS', RandomUnderSampler()), \n",
    "                        ('clf', MultinomialNB())])"
   ]
  },
  {
   "cell_type": "markdown",
   "id": "2aa8fe5d",
   "metadata": {},
   "source": [
    "#### <font color=orange>Undersampling using library resulted in around 50% accuracy \n",
    "#### <font color=orange>Oversampling performed better at around 64% accuracy\n",
    "#### <font color=orange>However, our best result was through data augmenting by generating new parapharsed data. "
   ]
  },
  {
   "cell_type": "markdown",
   "id": "d0ce8dbe",
   "metadata": {},
   "source": [
    "## <center><font color=purple>8. Error Analysis & Possible Improvements <a class=\"anchor\" id=\"eighth-bullet\"></a>\n",
    "<hr>"
   ]
  },
  {
   "cell_type": "markdown",
   "id": "2ab25993",
   "metadata": {},
   "source": [
    "* Oversampling Training data only instead of the whole dataset. \n",
    "\n",
    "Copies of the same point may end up in both the training and test sets. This allows the classifier to cheat, because when trying to make predictions on the test set the classifier will already have seen identical points in the train set. However, in our project we believe that it should not effect much since we have a small data and we have done data preprocessing and deleted replicated data (if any). \n",
    "<hr>\n",
    "\n",
    "* In RandomForest we could see that it performs worse than most classifer, even though it shouldn't.\n",
    "    This is because we're using a basic estimaitor, using tunned base_estimators would definility results an exceeding performance.\n",
    "\n",
    "<hr>\n",
    "\n",
    "* Using different text augmentation\n",
    "    \n",
    "Data augmentation is a data oversampling technique used to increase the size of the data by adding new samples that have a similar distribution to the original data or marginally altering the original data. The data needs to be altered in a way that preserves the class label for better performance at the classification task.\n",
    "\n",
    "A possible improvment is using diffrent techniques, such as:\n",
    "   \n",
    "Different Synonym Word Replacement    \n",
    "    - Word Embedding based Replacement: Pretrained word embedding like GloVe.\n",
    "    - Lexical based Replacement: Wordnet\n",
    "    \n",
    "Generative Models\n",
    "    Generative language models such as BERT, RoBERTa, BART or the recent T5 model can be used to generate the text in a more class label preserving manner. The generative model encodes the class label along with its associated text sequences to generate newer samples with some modifications. The approach is usually more reliable and the sample generated are more representative of the associated class label.\n",
    "    \n",
    "Random Insertion / Swapping / Deletion\n",
    "    - Random Insertion: Identifying and extracting synonyms for some randomly chosen words that are not StopWords in \n",
    "    the sentence. Inserting this identified synonym at some random position in the sentence.\n",
    "    \n",
    "    - Random Swapping: Randomly choosing two words in the sentence and swap their positions. This may not be a good \n",
    "    idea in a morphologically rich language like Hindi, Marathi as it may entirely change the meaning of the sentence.\n",
    "    \n",
    "    - Random Deletion: Randomly removing word in the sentence.\n",
    "\n",
    "    \n",
    "\n",
    "\n",
    "\n"
   ]
  },
  {
   "cell_type": "markdown",
   "id": "44455df0",
   "metadata": {},
   "source": [
    "## <center><font color=purple>9. Final Results <a class=\"anchor\" id=\"ninth-bullet\"></a>\n",
    "<hr>"
   ]
  },
  {
   "cell_type": "markdown",
   "id": "a46989a0",
   "metadata": {},
   "source": [
    "| Classifier| Accuracy |  |\n",
    "| --- | --- | --- |\n",
    "| Naive Bayes |  | 0.8351       |\n",
    "| Logisitc Regression |  | 0.8333       |\n",
    "| SVM SGD |  | 0.8612       |\n",
    "| SVM Linear |  | 0.8573       |\n",
    "| RandomForest |  | 0.6744       |"
   ]
  },
  {
   "cell_type": "markdown",
   "id": "ec7d4f08",
   "metadata": {},
   "source": [
    "- Naive Bayes: Achieved accuracy score of 83.51%.\n",
    "- Logistic Regression: Achieved a lower accuracy score of 83.33%.\n",
    "- SVM SGD: Achieved a higher accuracy score of 86.12% which is approximately 3% improvement over Naive Bayes.\n",
    "- SVM Linear: Achieved a high accuracy score of 85.73% which is approximately 2% improvement over Naive Bayes but slightly less than SGD.\n",
    "- Random Forest: Achieved accuracy score of 67.44% which is the least score between all classifiers."
   ]
  },
  {
   "cell_type": "markdown",
   "id": "c4a31c74",
   "metadata": {},
   "source": [
    "## <center><font color=purple>10. Conclusion <a class=\"anchor\" id=\"tenth-bullet\"></a>\n",
    "<hr>"
   ]
  },
  {
   "cell_type": "markdown",
   "id": "6e016afc",
   "metadata": {},
   "source": [
    "In conclusion, we have done some data preprocessing on the App Reviews dataset, such as, data cleaning, data transformation. Unbalanced data were dealt with by using both data oversampling & undersampling. Moreover, few evaluation measures were used from the classification report, such as, precision, recall, F1 Score, and support score.\n",
    "\n",
    "Four classifers were used in our project, Naive Bayes, Logistic Regression, SVM and Random Forest, with almost similar accuracy between them. Furthermore, we have shown that the Support Vector Machine can perform multiclass text classiﬁcation very eﬀectively and slightly better than Naive Bayes and Logistic Regression. Moreover, hyperparameter optimization or tuning using GridSearchCV gave us a better result on the test set. "
   ]
  },
  {
   "cell_type": "markdown",
   "id": "2c9a9aa7",
   "metadata": {},
   "source": [
    "# <font color=blue> Resources: Here is a list of diffrent articles & research the we have used in our project\n",
    "    \n",
    "    \n",
    "* https://analyticsindiamag.com/naive-bayes-why-is-it-favoured-for-text-related-tasks/\n",
    "* https://www.researchgate.net/publication/2522390_Improving_Multiclass_Text_Classification_with_the_Support_Vector_Machine\n",
    "* https://www.baeldung.com/cs/svm-multiclass-classification\n",
    "* https://www.analyticsvidhya.com/blog/2017/09/understaing-support-vector-machine-example-code/\n",
    "* https://muthu.co/understanding-the-classification-report-in-sklearn/\n",
    "* https://saurabhk30.medium.com/5-data-augmentation-techniques-for-text-classification-d14f6d8bd6aa\n"
   ]
  }
 ],
 "metadata": {
  "kernelspec": {
   "display_name": "Python 3 (ipykernel)",
   "language": "python",
   "name": "python3"
  },
  "language_info": {
   "codemirror_mode": {
    "name": "ipython",
    "version": 3
   },
   "file_extension": ".py",
   "mimetype": "text/x-python",
   "name": "python",
   "nbconvert_exporter": "python",
   "pygments_lexer": "ipython3",
   "version": "3.8.12"
  }
 },
 "nbformat": 4,
 "nbformat_minor": 5
}
