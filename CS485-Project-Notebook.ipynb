{
 "cells": [
  {
   "cell_type": "markdown",
   "id": "bd5622bf",
   "metadata": {},
   "source": [
    "\n",
    "![logo](./kfupm-logo.png)\n",
    "## <center> ICS 485: Machine Learning\n",
    "### <center> <font color=crimson> App Review Classification"
   ]
  },
  {
   "cell_type": "markdown",
   "id": "8b4d9bd5",
   "metadata": {},
   "source": [
    "\n",
    "<center>\n",
    "         <font color=\"pink\" size=5> Team Members\n",
    "        \n",
    "        # Mawiah Alboainain\n",
    "        # Yousef Alzahrani"
   ]
  },
  {
   "cell_type": "markdown",
   "id": "c014678a",
   "metadata": {},
   "source": [
    "\n",
    "    \n",
    "    \n",
    "Table of Contents\n",
    "* [Exploratory Analysis](#first-bullet)\n",
    "* [Imbalanced Data](#fourth-bullet)\n",
    "* [Evaluation Measures](#fifth-bullet)\n",
    "* [Classifiers](#sixth-bullet)\n",
    "* [Hyper-parameter Tuning ](#seventh-bullet)\n",
    "* [Error Analysis](#eighth-bullet)\n",
    "* [Results](#ninth-bullet)\n",
    "* [Conclusion](#tenth-bullet)\n"
   ]
  },
  {
   "cell_type": "code",
   "execution_count": 1,
   "id": "74387ad5",
   "metadata": {},
   "outputs": [],
   "source": [
    "import pandas as pd\n",
    "import numpy as np\n",
    "import re\n",
    "import matplotlib.pyplot as plt\n",
    "\n",
    "from sklearn.feature_extraction.text import TfidfVectorizer\n",
    "from sklearn.feature_selection import chi2\n",
    "\n",
    "from sklearn.model_selection import train_test_split\n",
    "from sklearn.feature_extraction.text import CountVectorizer\n",
    "from sklearn.feature_extraction.text import TfidfTransformer\n",
    "from sklearn.naive_bayes import MultinomialNB\n",
    "from sklearn.linear_model import LogisticRegression\n",
    "from sklearn.pipeline import Pipeline\n",
    "\n",
    "#text editing libraries\n",
    "import nlpaug\n",
    "import nlpaug.augmenter.word as naw\n",
    "from nltk.stem import WordNetLemmatizer\n",
    "from nltk import word_tokenize\n",
    "\n"
   ]
  },
  {
   "cell_type": "code",
   "execution_count": 4,
   "id": "29e1d66d",
   "metadata": {},
   "outputs": [],
   "source": [
    "def clean_text(text):\n",
    "    text = re.sub(\"[^a-zA-Z]\",\" \",str(text)) #force string\n",
    "    text = re.sub(r\"(^|\\W)\\d+\", \"\", text)\n",
    "    text = text.lower()\n",
    "    lemmatizer=WordNetLemmatizer()\n",
    "    text=word_tokenize(text)\n",
    "    tmp =''\n",
    "    for word in text:\n",
    "        tmp+=lemmatizer.lemmatize(word)+' '\n",
    "    text = tmp\n",
    "    \n",
    "    text = re.sub(r\"what's\", \"what is \", text)\n",
    "    text = re.sub(r\"\\'s\", \" \", text)\n",
    "    text = re.sub(r\"\\'ve\", \" have \", text)\n",
    "    text = re.sub(r\"can't\", \"can not \", text)\n",
    "    text = re.sub(r\"n't\", \" not \", text)\n",
    "    text = re.sub(r\"i'm\", \"i am \", text)\n",
    "    text = re.sub(r\"\\'re\", \" are \", text)\n",
    "    text = re.sub(r\"\\'d\", \" would \", text)\n",
    "    text = re.sub(r\"\\'ll\", \" will \", text)\n",
    "    text = re.sub(r\"\\'scuse\", \" excuse \", text)\n",
    "    text = re.sub('\\W', ' ', text)\n",
    "    text = re.sub('\\s+', ' ', text)\n",
    "    text = text.strip(' ')\n",
    "    return text"
   ]
  },
  {
   "cell_type": "code",
   "execution_count": 5,
   "id": "598913ce",
   "metadata": {},
   "outputs": [],
   "source": [
    "aug = naw.SynonymAug(aug_src='wordnet',aug_max=10)   \n",
    "def text_augment(text):\n",
    "    return aug.augment(text,n=1)"
   ]
  },
  {
   "cell_type": "code",
   "execution_count": 19,
   "id": "410118dc",
   "metadata": {},
   "outputs": [],
   "source": [
    "def undersample(df):\n",
    "    classes = df.label.value_counts().to_dict()\n",
    "    downsize = min(classes.values())\n",
    "    classes_list = []\n",
    "    for key in classes:\n",
    "        classes_list.append(df[df['label'] == key]) \n",
    "    classes_sample = []\n",
    "    for i in range(0,len(classes_list)):\n",
    "        classes_sample.append(classes_list[i].sample(downsize, replace=True))\n",
    "    df_maybe = pd.concat(classes_sample)\n",
    "    final_df = pd.concat([df_maybe], axis=0)\n",
    "    final_df = final_df.reset_index(drop=True)\n",
    "    return final_df"
   ]
  },
  {
   "cell_type": "code",
   "execution_count": 18,
   "id": "3f7d7c9d",
   "metadata": {},
   "outputs": [],
   "source": [
    "def oversample(df):\n",
    "    classes = df.label.value_counts().to_dict()\n",
    "    most = max(classes.values())\n",
    "    to_augment =  max(classes.values()) - np.array(list(classes.values()))\n",
    "    classes_list = []\n",
    "    for key in classes:\n",
    "        classes_list.append(df[df['label'] == key]) \n",
    "    classes_sample = []\n",
    "    for i in range(1,len(classes_list)):\n",
    "        to_paraphrase = classes_list[i].sample(to_augment[i], replace=True)\n",
    "        to_paraphrase.review = to_paraphrase.apply(lambda x: text_augment(x['review']), axis=1)\n",
    "        classes_sample.append(to_paraphrase)\n",
    "    df_maybe = pd.concat(classes_sample)\n",
    "    final_df = pd.concat([df_maybe,classes_list[0],classes_list[1],classes_list[2],classes_list[3]], axis=0)\n",
    "    final_df = final_df.reset_index(drop=True)\n",
    "    return final_df"
   ]
  },
  {
   "cell_type": "code",
   "execution_count": 20,
   "id": "9d4b5bee",
   "metadata": {},
   "outputs": [],
   "source": [
    "dataset_url = \"https://raw.githubusercontent.com/ZYousef/CS485-Project/main/AppReviews-FourClasses.csv\"\n",
    "df = pd.read_csv(dataset_url)"
   ]
  },
  {
   "cell_type": "markdown",
   "id": "1df7c2be",
   "metadata": {},
   "source": [
    "## <center><font color=purple> 1. Exploratory Data Analysis<a class=\"anchor\" id=\"first-bullet\"></a>"
   ]
  },
  {
   "cell_type": "markdown",
   "id": "2f222b9e",
   "metadata": {},
   "source": [
    "### <font color=blue> A. Dataset Analysis & Important Statistics"
   ]
  },
  {
   "cell_type": "code",
   "execution_count": 6,
   "id": "ec9f8a47",
   "metadata": {
    "scrolled": false
   },
   "outputs": [
    {
     "data": {
      "text/html": [
       "<div>\n",
       "<style scoped>\n",
       "    .dataframe tbody tr th:only-of-type {\n",
       "        vertical-align: middle;\n",
       "    }\n",
       "\n",
       "    .dataframe tbody tr th {\n",
       "        vertical-align: top;\n",
       "    }\n",
       "\n",
       "    .dataframe thead th {\n",
       "        text-align: right;\n",
       "    }\n",
       "</style>\n",
       "<table border=\"1\" class=\"dataframe\">\n",
       "  <thead>\n",
       "    <tr style=\"text-align: right;\">\n",
       "      <th></th>\n",
       "      <th>review</th>\n",
       "      <th>label</th>\n",
       "    </tr>\n",
       "  </thead>\n",
       "  <tbody>\n",
       "    <tr>\n",
       "      <th>0</th>\n",
       "      <td>Besides the occasional crash, this is an amazi...</td>\n",
       "      <td>Bug</td>\n",
       "    </tr>\n",
       "    <tr>\n",
       "      <th>1</th>\n",
       "      <td>This could be a great app if it was predictabl...</td>\n",
       "      <td>Bug</td>\n",
       "    </tr>\n",
       "    <tr>\n",
       "      <th>2</th>\n",
       "      <td>I can't open since the last 2 updates Pop-ups ...</td>\n",
       "      <td>Bug</td>\n",
       "    </tr>\n",
       "    <tr>\n",
       "      <th>3</th>\n",
       "      <td>Use to love this app but it's not working afte...</td>\n",
       "      <td>Bug</td>\n",
       "    </tr>\n",
       "    <tr>\n",
       "      <th>4</th>\n",
       "      <td>Urrrrm\\tAfter my third re installing, it final...</td>\n",
       "      <td>Bug</td>\n",
       "    </tr>\n",
       "  </tbody>\n",
       "</table>\n",
       "</div>"
      ],
      "text/plain": [
       "                                              review label\n",
       "0  Besides the occasional crash, this is an amazi...   Bug\n",
       "1  This could be a great app if it was predictabl...   Bug\n",
       "2  I can't open since the last 2 updates Pop-ups ...   Bug\n",
       "3  Use to love this app but it's not working afte...   Bug\n",
       "4  Urrrrm\\tAfter my third re installing, it final...   Bug"
      ]
     },
     "execution_count": 6,
     "metadata": {},
     "output_type": "execute_result"
    }
   ],
   "source": [
    "df.head()"
   ]
  },
  {
   "cell_type": "code",
   "execution_count": 7,
   "id": "95a50e1a",
   "metadata": {
    "scrolled": true
   },
   "outputs": [
    {
     "data": {
      "text/html": [
       "<div>\n",
       "<style scoped>\n",
       "    .dataframe tbody tr th:only-of-type {\n",
       "        vertical-align: middle;\n",
       "    }\n",
       "\n",
       "    .dataframe tbody tr th {\n",
       "        vertical-align: top;\n",
       "    }\n",
       "\n",
       "    .dataframe thead th {\n",
       "        text-align: right;\n",
       "    }\n",
       "</style>\n",
       "<table border=\"1\" class=\"dataframe\">\n",
       "  <thead>\n",
       "    <tr style=\"text-align: right;\">\n",
       "      <th></th>\n",
       "      <th>review</th>\n",
       "      <th>label</th>\n",
       "    </tr>\n",
       "  </thead>\n",
       "  <tbody>\n",
       "    <tr>\n",
       "      <th>count</th>\n",
       "      <td>3733</td>\n",
       "      <td>3733</td>\n",
       "    </tr>\n",
       "    <tr>\n",
       "      <th>unique</th>\n",
       "      <td>3217</td>\n",
       "      <td>4</td>\n",
       "    </tr>\n",
       "    <tr>\n",
       "      <th>top</th>\n",
       "      <td>Good</td>\n",
       "      <td>Rating</td>\n",
       "    </tr>\n",
       "    <tr>\n",
       "      <th>freq</th>\n",
       "      <td>15</td>\n",
       "      <td>2461</td>\n",
       "    </tr>\n",
       "  </tbody>\n",
       "</table>\n",
       "</div>"
      ],
      "text/plain": [
       "       review   label\n",
       "count    3733    3733\n",
       "unique   3217       4\n",
       "top      Good  Rating\n",
       "freq       15    2461"
      ]
     },
     "execution_count": 7,
     "metadata": {},
     "output_type": "execute_result"
    }
   ],
   "source": [
    "df.describe()"
   ]
  },
  {
   "cell_type": "markdown",
   "id": "67aca7f2",
   "metadata": {},
   "source": [
    "We have 3733 reviews, 3217 of them are unique."
   ]
  },
  {
   "cell_type": "code",
   "execution_count": 8,
   "id": "63aed2fb",
   "metadata": {
    "scrolled": true
   },
   "outputs": [
    {
     "name": "stdout",
     "output_type": "stream",
     "text": [
      "<class 'pandas.core.frame.DataFrame'>\n",
      "RangeIndex: 3733 entries, 0 to 3732\n",
      "Data columns (total 2 columns):\n",
      " #   Column  Non-Null Count  Dtype \n",
      "---  ------  --------------  ----- \n",
      " 0   review  3733 non-null   object\n",
      " 1   label   3733 non-null   object\n",
      "dtypes: object(2)\n",
      "memory usage: 58.5+ KB\n"
     ]
    }
   ],
   "source": [
    "df.info()"
   ]
  },
  {
   "cell_type": "code",
   "execution_count": 9,
   "id": "a936745a",
   "metadata": {},
   "outputs": [],
   "source": [
    "samples,classes=df.shape[0],df.nunique()[1]"
   ]
  },
  {
   "cell_type": "code",
   "execution_count": 10,
   "id": "8b317e41",
   "metadata": {
    "scrolled": true
   },
   "outputs": [
    {
     "data": {
      "text/plain": [
       "(3733, 4)"
      ]
     },
     "execution_count": 10,
     "metadata": {},
     "output_type": "execute_result"
    }
   ],
   "source": [
    "samples,classes"
   ]
  },
  {
   "cell_type": "markdown",
   "id": "241501f9",
   "metadata": {},
   "source": [
    "We have 3733 Samples & 4 unique classes"
   ]
  },
  {
   "cell_type": "code",
   "execution_count": 11,
   "id": "e3d54e20",
   "metadata": {
    "scrolled": false
   },
   "outputs": [
    {
     "data": {
      "text/plain": [
       "Rating            2461\n",
       "UserExperience     607\n",
       "Bug                370\n",
       "Feature            295\n",
       "Name: label, dtype: int64"
      ]
     },
     "execution_count": 11,
     "metadata": {},
     "output_type": "execute_result"
    }
   ],
   "source": [
    "df.label.value_counts()"
   ]
  },
  {
   "cell_type": "markdown",
   "id": "abfe0f0a",
   "metadata": {},
   "source": [
    "Rating, UserExperience, Bug & Features are the four unique classes. We can also notice an imbalance in classes with Rating dominating by a large margin."
   ]
  },
  {
   "cell_type": "code",
   "execution_count": 12,
   "id": "2da57e63",
   "metadata": {
    "scrolled": false
   },
   "outputs": [
    {
     "data": {
      "text/plain": [
       "(1491, 238)"
      ]
     },
     "execution_count": 12,
     "metadata": {},
     "output_type": "execute_result"
    }
   ],
   "source": [
    "#Some reviews contains special string such as \\t & \\n for tabs and new line\n",
    "df[df.review.str.contains(\"\\t\")].shape[0],df[df.review.str.contains(\"\\n\")].shape[0]"
   ]
  },
  {
   "cell_type": "code",
   "execution_count": 13,
   "id": "321c096e",
   "metadata": {},
   "outputs": [],
   "source": [
    "df.review = df.review.str.replace(\"\\n\",\" \")\n",
    "df.review = df.review.str.replace(\"\\t\",\" \")"
   ]
  },
  {
   "cell_type": "code",
   "execution_count": 14,
   "id": "df47cf9b",
   "metadata": {},
   "outputs": [
    {
     "data": {
      "text/plain": [
       "(0, 0)"
      ]
     },
     "execution_count": 14,
     "metadata": {},
     "output_type": "execute_result"
    }
   ],
   "source": [
    "df[df.review.str.contains(\"\\t\")].shape[0],df[df.review.str.contains(\"\\n\")].shape[0]"
   ]
  },
  {
   "cell_type": "code",
   "execution_count": 15,
   "id": "3d84b751",
   "metadata": {
    "scrolled": true
   },
   "outputs": [
    {
     "data": {
      "text/html": [
       "<div>\n",
       "<style scoped>\n",
       "    .dataframe tbody tr th:only-of-type {\n",
       "        vertical-align: middle;\n",
       "    }\n",
       "\n",
       "    .dataframe tbody tr th {\n",
       "        vertical-align: top;\n",
       "    }\n",
       "\n",
       "    .dataframe thead th {\n",
       "        text-align: right;\n",
       "    }\n",
       "</style>\n",
       "<table border=\"1\" class=\"dataframe\">\n",
       "  <thead>\n",
       "    <tr style=\"text-align: right;\">\n",
       "      <th></th>\n",
       "      <th>review</th>\n",
       "      <th>label</th>\n",
       "    </tr>\n",
       "  </thead>\n",
       "  <tbody>\n",
       "    <tr>\n",
       "      <th>223</th>\n",
       "      <td>The white app icon is so atrocious, I'm hiding...</td>\n",
       "      <td>Bug</td>\n",
       "    </tr>\n",
       "    <tr>\n",
       "      <th>714</th>\n",
       "      <td>Nice</td>\n",
       "      <td>Rating</td>\n",
       "    </tr>\n",
       "    <tr>\n",
       "      <th>752</th>\n",
       "      <td>Good Good</td>\n",
       "      <td>Rating</td>\n",
       "    </tr>\n",
       "    <tr>\n",
       "      <th>786</th>\n",
       "      <td>Good</td>\n",
       "      <td>Rating</td>\n",
       "    </tr>\n",
       "    <tr>\n",
       "      <th>820</th>\n",
       "      <td>Ok</td>\n",
       "      <td>Rating</td>\n",
       "    </tr>\n",
       "    <tr>\n",
       "      <th>...</th>\n",
       "      <td>...</td>\n",
       "      <td>...</td>\n",
       "    </tr>\n",
       "    <tr>\n",
       "      <th>3060</th>\n",
       "      <td>Good Cool</td>\n",
       "      <td>Rating</td>\n",
       "    </tr>\n",
       "    <tr>\n",
       "      <th>3063</th>\n",
       "      <td>Ok Ok</td>\n",
       "      <td>Rating</td>\n",
       "    </tr>\n",
       "    <tr>\n",
       "      <th>3075</th>\n",
       "      <td>Great app</td>\n",
       "      <td>Rating</td>\n",
       "    </tr>\n",
       "    <tr>\n",
       "      <th>3085</th>\n",
       "      <td>Ok</td>\n",
       "      <td>Rating</td>\n",
       "    </tr>\n",
       "    <tr>\n",
       "      <th>3095</th>\n",
       "      <td>Excellent Excellent</td>\n",
       "      <td>Rating</td>\n",
       "    </tr>\n",
       "  </tbody>\n",
       "</table>\n",
       "<p>138 rows × 2 columns</p>\n",
       "</div>"
      ],
      "text/plain": [
       "                                                 review   label\n",
       "223   The white app icon is so atrocious, I'm hiding...     Bug\n",
       "714                                                Nice  Rating\n",
       "752                                           Good Good  Rating\n",
       "786                                                Good  Rating\n",
       "820                                                  Ok  Rating\n",
       "...                                                 ...     ...\n",
       "3060                                          Good Cool  Rating\n",
       "3063                                              Ok Ok  Rating\n",
       "3075                                          Great app  Rating\n",
       "3085                                                 Ok  Rating\n",
       "3095                                Excellent Excellent  Rating\n",
       "\n",
       "[138 rows x 2 columns]"
      ]
     },
     "execution_count": 15,
     "metadata": {},
     "output_type": "execute_result"
    }
   ],
   "source": [
    "df[df.duplicated()]"
   ]
  },
  {
   "cell_type": "markdown",
   "id": "2af98631",
   "metadata": {},
   "source": [
    "We notice 137 entries are duplicated"
   ]
  },
  {
   "cell_type": "code",
   "execution_count": 16,
   "id": "024b91ef",
   "metadata": {
    "scrolled": false
   },
   "outputs": [],
   "source": [
    "df.drop_duplicates(inplace=True)"
   ]
  },
  {
   "cell_type": "code",
   "execution_count": 17,
   "id": "e0151a04",
   "metadata": {
    "scrolled": false
   },
   "outputs": [
    {
     "data": {
      "text/html": [
       "<div>\n",
       "<style scoped>\n",
       "    .dataframe tbody tr th:only-of-type {\n",
       "        vertical-align: middle;\n",
       "    }\n",
       "\n",
       "    .dataframe tbody tr th {\n",
       "        vertical-align: top;\n",
       "    }\n",
       "\n",
       "    .dataframe thead th {\n",
       "        text-align: right;\n",
       "    }\n",
       "</style>\n",
       "<table border=\"1\" class=\"dataframe\">\n",
       "  <thead>\n",
       "    <tr style=\"text-align: right;\">\n",
       "      <th></th>\n",
       "      <th>review</th>\n",
       "      <th>label</th>\n",
       "    </tr>\n",
       "  </thead>\n",
       "  <tbody>\n",
       "  </tbody>\n",
       "</table>\n",
       "</div>"
      ],
      "text/plain": [
       "Empty DataFrame\n",
       "Columns: [review, label]\n",
       "Index: []"
      ]
     },
     "execution_count": 17,
     "metadata": {},
     "output_type": "execute_result"
    }
   ],
   "source": [
    "df[df.duplicated()]"
   ]
  },
  {
   "cell_type": "code",
   "execution_count": 18,
   "id": "a153824f",
   "metadata": {
    "scrolled": true
   },
   "outputs": [
    {
     "data": {
      "image/png": "[encoded data removed]",
      "text/plain": [
       "<Figure size 432x288 with 1 Axes>"
      ]
     },
     "metadata": {
      "needs_background": "light"
     },
     "output_type": "display_data"
    }
   ],
   "source": [
    "df.label.hist();"
   ]
  },
  {
   "cell_type": "code",
   "execution_count": 19,
   "id": "4bb89fad",
   "metadata": {
    "scrolled": true
   },
   "outputs": [
    {
     "data": {
      "text/plain": [
       "Rating            2324\n",
       "UserExperience     607\n",
       "Bug                369\n",
       "Feature            295\n",
       "Name: label, dtype: int64"
      ]
     },
     "execution_count": 19,
     "metadata": {},
     "output_type": "execute_result"
    }
   ],
   "source": [
    " df.label.value_counts()"
   ]
  },
  {
   "cell_type": "code",
   "execution_count": 20,
   "id": "884dd08c",
   "metadata": {
    "scrolled": false
   },
   "outputs": [
    {
     "data": {
      "text/plain": [
       "Rating            2324\n",
       "UserExperience     607\n",
       "Bug                369\n",
       "Feature            295\n",
       "Name: label, dtype: int64"
      ]
     },
     "execution_count": 20,
     "metadata": {},
     "output_type": "execute_result"
    }
   ],
   "source": [
    " df.label.value_counts()"
   ]
  },
  {
   "cell_type": "markdown",
   "id": "87ff29f3",
   "metadata": {},
   "source": [
    "## <center><font color=purple>4. Imbalanced Data<a class=\"anchor\" id=\"fourth-bullet\"></a>"
   ]
  },
  {
   "cell_type": "code",
   "execution_count": 21,
   "id": "e95ba036",
   "metadata": {
    "scrolled": true
   },
   "outputs": [
    {
     "data": {
      "text/plain": [
       "3684"
      ]
     },
     "execution_count": 21,
     "metadata": {},
     "output_type": "execute_result"
    }
   ],
   "source": [
    "#Blanaces the data and makes sure new aguments data duplicates are <=25 or reached limit\n",
    "df_balanced = oversample(df)\n",
    "dups = df_balanced.duplicated().sum()\n",
    "num_iter=0\n",
    "while num_iter < 10 & dups > 25 :\n",
    "    df_balanced.drop_duplicates(inplace=True)\n",
    "    df_balanced = oversample(df)\n",
    "    dups = df_balanced.duplicated().sum()\n",
    "    num_iter+=1\n",
    "#Make sure original dataset is embedded \n",
    "pd.merge(df,df_balanced,how='inner').shape[0]"
   ]
  },
  {
   "cell_type": "code",
   "execution_count": 22,
   "id": "51793236",
   "metadata": {},
   "outputs": [],
   "source": [
    "df_balanced.to_csv('balanced.csv',index=False)"
   ]
  },
  {
   "cell_type": "code",
   "execution_count": 23,
   "id": "015bb6c2",
   "metadata": {},
   "outputs": [],
   "source": [
    "df_balanced = pd.read_csv('balanced.csv')"
   ]
  },
  {
   "cell_type": "code",
   "execution_count": 24,
   "id": "b9933b2f",
   "metadata": {
    "scrolled": true
   },
   "outputs": [
    {
     "data": {
      "text/plain": [
       "UserExperience    2324\n",
       "Bug               2324\n",
       "Feature           2324\n",
       "Rating            2324\n",
       "Name: label, dtype: int64"
      ]
     },
     "execution_count": 24,
     "metadata": {},
     "output_type": "execute_result"
    }
   ],
   "source": [
    "df_balanced.label.value_counts()"
   ]
  },
  {
   "cell_type": "markdown",
   "id": "de3ea5d4",
   "metadata": {},
   "source": [
    "### <font color=blue> B. Correlation Analysis"
   ]
  },
  {
   "cell_type": "code",
   "execution_count": 25,
   "id": "223e0cf7",
   "metadata": {},
   "outputs": [],
   "source": [
    "df_balanced.review = df_balanced.apply(lambda x: clean_text(x['review']), axis=1)"
   ]
  },
  {
   "cell_type": "code",
   "execution_count": 26,
   "id": "df9148a6",
   "metadata": {},
   "outputs": [
    {
     "data": {
      "text/html": [
       "<div>\n",
       "<style scoped>\n",
       "    .dataframe tbody tr th:only-of-type {\n",
       "        vertical-align: middle;\n",
       "    }\n",
       "\n",
       "    .dataframe tbody tr th {\n",
       "        vertical-align: top;\n",
       "    }\n",
       "\n",
       "    .dataframe thead th {\n",
       "        text-align: right;\n",
       "    }\n",
       "</style>\n",
       "<table border=\"1\" class=\"dataframe\">\n",
       "  <thead>\n",
       "    <tr style=\"text-align: right;\">\n",
       "      <th></th>\n",
       "      <th>count</th>\n",
       "      <th>mean</th>\n",
       "      <th>std</th>\n",
       "      <th>min</th>\n",
       "      <th>25%</th>\n",
       "      <th>50%</th>\n",
       "      <th>75%</th>\n",
       "      <th>max</th>\n",
       "    </tr>\n",
       "    <tr>\n",
       "      <th>label</th>\n",
       "      <th></th>\n",
       "      <th></th>\n",
       "      <th></th>\n",
       "      <th></th>\n",
       "      <th></th>\n",
       "      <th></th>\n",
       "      <th></th>\n",
       "      <th></th>\n",
       "    </tr>\n",
       "  </thead>\n",
       "  <tbody>\n",
       "    <tr>\n",
       "      <th>Bug</th>\n",
       "      <td>2324.0</td>\n",
       "      <td>40.406196</td>\n",
       "      <td>36.205128</td>\n",
       "      <td>2.0</td>\n",
       "      <td>19.0</td>\n",
       "      <td>31.0</td>\n",
       "      <td>49.0</td>\n",
       "      <td>278.0</td>\n",
       "    </tr>\n",
       "    <tr>\n",
       "      <th>Feature</th>\n",
       "      <td>2324.0</td>\n",
       "      <td>37.811102</td>\n",
       "      <td>35.534369</td>\n",
       "      <td>3.0</td>\n",
       "      <td>18.0</td>\n",
       "      <td>29.5</td>\n",
       "      <td>45.0</td>\n",
       "      <td>277.0</td>\n",
       "    </tr>\n",
       "    <tr>\n",
       "      <th>Rating</th>\n",
       "      <td>2324.0</td>\n",
       "      <td>13.885972</td>\n",
       "      <td>19.373360</td>\n",
       "      <td>0.0</td>\n",
       "      <td>3.0</td>\n",
       "      <td>7.0</td>\n",
       "      <td>17.0</td>\n",
       "      <td>272.0</td>\n",
       "    </tr>\n",
       "    <tr>\n",
       "      <th>UserExperience</th>\n",
       "      <td>2324.0</td>\n",
       "      <td>33.649312</td>\n",
       "      <td>30.247588</td>\n",
       "      <td>1.0</td>\n",
       "      <td>13.0</td>\n",
       "      <td>25.0</td>\n",
       "      <td>45.0</td>\n",
       "      <td>260.0</td>\n",
       "    </tr>\n",
       "  </tbody>\n",
       "</table>\n",
       "</div>"
      ],
      "text/plain": [
       "                 count       mean        std  min   25%   50%   75%    max\n",
       "label                                                                     \n",
       "Bug             2324.0  40.406196  36.205128  2.0  19.0  31.0  49.0  278.0\n",
       "Feature         2324.0  37.811102  35.534369  3.0  18.0  29.5  45.0  277.0\n",
       "Rating          2324.0  13.885972  19.373360  0.0   3.0   7.0  17.0  272.0\n",
       "UserExperience  2324.0  33.649312  30.247588  1.0  13.0  25.0  45.0  260.0"
      ]
     },
     "execution_count": 26,
     "metadata": {},
     "output_type": "execute_result"
    }
   ],
   "source": [
    "df_balanced['review'].str.lower().str.split().apply(len).groupby(df_balanced.label).describe()"
   ]
  },
  {
   "cell_type": "code",
   "execution_count": 27,
   "id": "508e47d2",
   "metadata": {
    "scrolled": true
   },
   "outputs": [
    {
     "data": {
      "image/png": "[encoded data removed]",
      "text/plain": [
       "<Figure size 432x288 with 1 Axes>"
      ]
     },
     "metadata": {
      "needs_background": "light"
     },
     "output_type": "display_data"
    }
   ],
   "source": [
    "df_balanced['review'].str.lower().str.split().apply(len).groupby(df_balanced.label).hist(legend=True);"
   ]
  },
  {
   "cell_type": "markdown",
   "id": "9b41569e",
   "metadata": {},
   "source": [
    "#### Ratings review are relatively short"
   ]
  },
  {
   "cell_type": "code",
   "execution_count": 28,
   "id": "34977867",
   "metadata": {},
   "outputs": [],
   "source": [
    "df_balanced['label_id'] = df_balanced['label'].factorize()[0] #digitze? label to int\n",
    "label_id_df_balanced = df_balanced[['label', 'label_id']].sort_values('label_id') #sort\n",
    "label_to_id = dict(label_id_df_balanced.values)\n",
    "id_to_label = dict(label_id_df_balanced[['label_id', 'label']].values)"
   ]
  },
  {
   "cell_type": "code",
   "execution_count": 29,
   "id": "e29c5360",
   "metadata": {},
   "outputs": [],
   "source": [
    "X,Y = df_balanced['review'], df_balanced['label']\n",
    "trainx, testx, trainy, testy = train_test_split(X, Y, test_size=0.3, random_state=777)"
   ]
  },
  {
   "cell_type": "code",
   "execution_count": 30,
   "id": "008ddd04",
   "metadata": {
    "scrolled": true
   },
   "outputs": [
    {
     "data": {
      "text/plain": [
       "(6507, 48595)"
      ]
     },
     "execution_count": 30,
     "metadata": {},
     "output_type": "execute_result"
    }
   ],
   "source": [
    "#Text represntation\n",
    "tfidf = TfidfVectorizer(sublinear_tf=True, min_df=1, norm='l2', encoding='latin-1', ngram_range=(1, 2), stop_words='english')\n",
    "features = tfidf.fit_transform(trainx).toarray()\n",
    "labels = trainy.factorize()[0]\n",
    "features.shape"
   ]
  },
  {
   "cell_type": "code",
   "execution_count": 31,
   "id": "51d94524",
   "metadata": {
    "scrolled": false
   },
   "outputs": [
    {
     "name": "stdout",
     "output_type": "stream",
     "text": [
      "# 'Bug':\n",
      "  . Most correlated unigrams:\n",
      ". love\n",
      ". game\n",
      "  . Most correlated bigrams:\n",
      ". whatsapp sm\n",
      ". useful easy\n",
      "# 'Feature':\n",
      "  . Most correlated unigrams:\n",
      ". trip\n",
      ". easy\n",
      "  . Most correlated bigrams:\n",
      ". trip advisor\n",
      ". easy use\n",
      "# 'Rating':\n",
      "  . Most correlated unigrams:\n",
      ". nice\n",
      ". good\n",
      "  . Most correlated bigrams:\n",
      ". good good\n",
      ". information technology\n",
      "# 'UserExperience':\n",
      "  . Most correlated unigrams:\n",
      ". fix\n",
      ". crash\n",
      "  . Most correlated bigrams:\n",
      ". update fix\n",
      ". latest update\n"
     ]
    }
   ],
   "source": [
    "N = 2\n",
    "for label, label_id in sorted(label_to_id.items()):\n",
    "  features_chi2 = chi2(features, labels == label_id)\n",
    "  indices = np.argsort(features_chi2[0])\n",
    "  feature_names = np.array(tfidf.get_feature_names())[indices]\n",
    "  unigrams = [v for v in feature_names if len(v.split(' ')) == 1]\n",
    "  bigrams = [v for v in feature_names if len(v.split(' ')) == 2]\n",
    "  print(\"# '{}':\".format(label))\n",
    "  print(\"  . Most correlated unigrams:\\n. {}\".format('\\n. '.join(unigrams[-N:])))\n",
    "  print(\"  . Most correlated bigrams:\\n. {}\".format('\\n. '.join(bigrams[-N:])))"
   ]
  },
  {
   "cell_type": "markdown",
   "id": "3f6eac95",
   "metadata": {},
   "source": [
    "## <center><font color=purple>5. Evaluation Measures <a class=\"anchor\" id=\"fifth-bullet\"></a>"
   ]
  },
  {
   "cell_type": "markdown",
   "id": "a0744a2f",
   "metadata": {},
   "source": [
    "#### In our project we're going to use the classification report provided by sklearn\n",
    "#### It is a performance evaluation metric in machine learning which is used to show the precision, recall, F1 Score, and support score of your trained classification model.\n",
    "    \n",
    "    sklearn.metrics.classification_report\n",
    "#### Check [Documentation](https://scikit-learn.org/stable/modules/generated/sklearn.metrics.classification_report.html#sklearn-metrics-classification-report) for more details \n",
    "\n",
    " "
   ]
  },
  {
   "cell_type": "markdown",
   "id": "2871568c",
   "metadata": {},
   "source": [
    "# <font color=red> ADD JUSTIFICATION"
   ]
  },
  {
   "cell_type": "markdown",
   "id": "35a062d1",
   "metadata": {},
   "source": [
    "## <center><font color=purple>6. Classifers <a class=\"anchor\" id=\"sixth-bullet\"></a>"
   ]
  },
  {
   "cell_type": "markdown",
   "id": "50e655de",
   "metadata": {},
   "source": [
    "* Naive Bayes\n",
    "* Logistic Regression\n",
    "* Support Victor Machines (Linear & SGD)\n",
    "* Random Forest"
   ]
  },
  {
   "cell_type": "markdown",
   "id": "825d4ace",
   "metadata": {},
   "source": [
    "# <font color=red> ADD JUSTIFICATION & DESCRIPTION FOR EACH CLASSIFIER"
   ]
  },
  {
   "cell_type": "markdown",
   "id": "4f7d6356",
   "metadata": {},
   "source": [
    "## <center><font color=purple>7. Hyper-parameter Tuning <a class=\"anchor\" id=\"seventh-bullet\"></a>"
   ]
  },
  {
   "cell_type": "markdown",
   "id": "c8a220ef",
   "metadata": {},
   "source": [
    "#### In this section we've pipelined all of our classifiers to automate the process of tunning the paramters using GridSearchCV , \n",
    "\n",
    "    from sklearn.model_selection import GridSearchCV\n"
   ]
  },
  {
   "cell_type": "markdown",
   "id": "ae0141d1",
   "metadata": {},
   "source": [
    "#### If you want to know the results of GridSearchCV use,\n",
    "\n",
    "    clf.best_estimator_"
   ]
  },
  {
   "cell_type": "markdown",
   "id": "4dfdd276",
   "metadata": {},
   "source": [
    "## Naive Bayes"
   ]
  },
  {
   "cell_type": "code",
   "execution_count": 32,
   "id": "2cbf6372",
   "metadata": {
    "scrolled": true
   },
   "outputs": [
    {
     "name": "stdout",
     "output_type": "stream",
     "text": [
      "                precision    recall  f1-score   support\n",
      "\n",
      "           Bug     0.8992    0.9692    0.9329       681\n",
      "       Feature     0.8403    0.9582    0.8954       670\n",
      "        Rating     0.8171    0.6059    0.6959       708\n",
      "UserExperience     0.7807    0.8192    0.7995       730\n",
      "\n",
      "      accuracy                         0.8351      2789\n",
      "     macro avg     0.8343    0.8381    0.8309      2789\n",
      "  weighted avg     0.8332    0.8351    0.8288      2789\n",
      "\n"
     ]
    }
   ],
   "source": [
    "from imblearn.pipeline import Pipeline\n",
    "from sklearn.naive_bayes import MultinomialNB\n",
    "from sklearn.feature_extraction.text import CountVectorizer, TfidfTransformer\n",
    "from sklearn.model_selection import train_test_split, GridSearchCV\n",
    "text_clf = Pipeline([('vect', CountVectorizer()),\n",
    "                    ('tfidf', TfidfTransformer()),\n",
    "                    ('clf', MultinomialNB())])\n",
    "tuned_parameters = {\n",
    "    'vect__ngram_range': [(1, 1), (1, 2), (2, 2)],\n",
    "    'vect__stop_words':['english'],\n",
    "    'vect__encoding':['latin-1'],\n",
    "    'vect__min_df':[1,2,3],\n",
    "    'tfidf__use_idf': (True, False),\n",
    "    'tfidf__norm': ('l1', 'l2'),\n",
    "    'clf__alpha': [1, 1e-1, 1e-2,1e-3,1e-4]\n",
    "}\n",
    "#tuned_parameters = {}\n",
    "\n",
    "from sklearn.metrics import classification_report\n",
    "clf = GridSearchCV(text_clf, tuned_parameters, cv=5, scoring=\"accuracy\")\n",
    "clf.fit(trainx, trainy)\n",
    "\n",
    "print(classification_report(testy, clf.predict(testx), digits=4))"
   ]
  },
  {
   "cell_type": "markdown",
   "id": "21aeba35",
   "metadata": {},
   "source": [
    "## Logisitc Regression"
   ]
  },
  {
   "cell_type": "code",
   "execution_count": 40,
   "id": "49997e1f",
   "metadata": {
    "scrolled": true
   },
   "outputs": [
    {
     "name": "stdout",
     "output_type": "stream",
     "text": [
      "                precision    recall  f1-score   support\n",
      "\n",
      "           Bug     0.9235    0.9574    0.9402       681\n",
      "       Feature     0.9167    0.9030    0.9098       670\n",
      "        Rating     0.7113    0.7585    0.7341       708\n",
      "UserExperience     0.7934    0.7260    0.7582       730\n",
      "\n",
      "      accuracy                         0.8333      2789\n",
      "     macro avg     0.8362    0.8362    0.8356      2789\n",
      "  weighted avg     0.8339    0.8333    0.8329      2789\n",
      "\n"
     ]
    }
   ],
   "source": [
    "# Using logistic regression as a classification model using Spark\n",
    "# Building the model\n",
    "from pyspark.ml.classification import LogisticRegression\n",
    "from sklearn.metrics import classification_report\n",
    "from sklearn.model_selection import train_test_split, GridSearchCV\n",
    "text_clf = Pipeline([('vect', CountVectorizer()),\n",
    "                ('tfidf', TfidfTransformer()),\n",
    "                ('clf', LogisticRegression(random_state=0, C=1e5)),\n",
    "               ])\n",
    "tuned_parameters = {\n",
    "    'vect__ngram_range': [(1, 1), (1, 2), (2, 2)],\n",
    "    'vect__stop_words':['english'],\n",
    "    'vect__encoding':['latin-1'],\n",
    "    'vect__min_df':[1,2,3],\n",
    "    'tfidf__use_idf': (True, False),\n",
    "    'tfidf__norm': ('l1', 'l2'),\n",
    "    'clf__n_jobs': [1,2],\n",
    "}\n",
    "\n",
    "# Fitting the model built above in the training set and then testing it\n",
    "# and printing different reports along with the accuracy \n",
    "from sklearn.metrics import classification_report\n",
    "clf = GridSearchCV(text_clf, tuned_parameters, cv=5, scoring=\"accuracy\")\n",
    "clf.fit(trainx, trainy)\n",
    "\n",
    "print(classification_report(testy, clf.predict(testx), digits=4))"
   ]
  },
  {
   "cell_type": "markdown",
   "id": "e40bf39c",
   "metadata": {},
   "source": [
    "## Support Vector Machine (SVM)"
   ]
  },
  {
   "cell_type": "markdown",
   "id": "368f8369",
   "metadata": {},
   "source": [
    "#### A) SVM with SGD training"
   ]
  },
  {
   "cell_type": "code",
   "execution_count": 33,
   "id": "b31730f3",
   "metadata": {
    "scrolled": false
   },
   "outputs": [
    {
     "name": "stderr",
     "output_type": "stream",
     "text": []
    },
    {
     "name": "stdout",
     "output_type": "stream",
     "text": [
      "                precision    recall  f1-score   support\n",
      "\n",
      "           Bug     0.9233    0.9721    0.9471       681\n",
      "       Feature     0.8859    0.9731    0.9275       670\n",
      "        Rating     0.8194    0.7048    0.7578       708\n",
      "UserExperience     0.8102    0.8068    0.8085       730\n",
      "\n",
      "      accuracy                         0.8612      2789\n",
      "     macro avg     0.8597    0.8642    0.8602      2789\n",
      "  weighted avg     0.8583    0.8612    0.8580      2789\n",
      "\n"
     ]
    }
   ],
   "source": [
    "from sklearn.metrics import classification_report\n",
    "from sklearn.linear_model import SGDClassifier\n",
    "text_clf = Pipeline([('vect', CountVectorizer()),\n",
    "                ('tfidf', TfidfTransformer()),\n",
    "                ('clf', SGDClassifier(random_state=42)),\n",
    "               ])\n",
    "tuned_parameters = {\n",
    "    'vect__ngram_range': [(1, 1), (1, 2), (2, 2)],\n",
    "    'vect__stop_words':['english'],\n",
    "    'vect__encoding':['latin-1'],\n",
    "    'vect__min_df':[1,2,3],\n",
    "    'tfidf__use_idf': (True, False),\n",
    "    'tfidf__norm': ('l1', 'l2'),\n",
    "    'clf__alpha': [1, 1e-1, 1e-2,1e-3,1e-4],\n",
    "    'clf__loss': ['hinge', 'log', 'modified_huber', 'squared_hinge', 'perceptron'],\n",
    "    'clf__penalty':['l2', 'l1', 'elasticnet'],\n",
    "    'clf__max_iter': [1000,2000,3000]\n",
    "}\n",
    "\n",
    "from sklearn.metrics import classification_report\n",
    "clf = GridSearchCV(text_clf, tuned_parameters, cv=5, scoring=\"accuracy\")\n",
    "clf.fit(trainx, trainy)\n",
    "\n",
    "print(classification_report(testy, clf.predict(testx), digits=4))"
   ]
  },
  {
   "cell_type": "markdown",
   "id": "f562800c",
   "metadata": {},
   "source": [
    "#### B) Linear SVM"
   ]
  },
  {
   "cell_type": "code",
   "execution_count": 41,
   "id": "1f939635",
   "metadata": {},
   "outputs": [
    {
     "name": "stdout",
     "output_type": "stream",
     "text": [
      "                precision    recall  f1-score   support\n",
      "\n",
      "           Bug     0.9057    0.9736    0.9384       681\n",
      "       Feature     0.9050    0.9522    0.9280       670\n",
      "        Rating     0.7883    0.7415    0.7642       708\n",
      "UserExperience     0.8236    0.7740    0.7980       730\n",
      "\n",
      "      accuracy                         0.8573      2789\n",
      "     macro avg     0.8557    0.8603    0.8572      2789\n",
      "  weighted avg     0.8542    0.8573    0.8549      2789\n",
      "\n"
     ]
    }
   ],
   "source": [
    "from sklearn.metrics import classification_report\n",
    "from sklearn.svm import LinearSVC\n",
    "\n",
    "text_clf = Pipeline([('vect', CountVectorizer()),\n",
    "                ('tfidf', TfidfTransformer()),\n",
    "                ('clf', LinearSVC(random_state=42)),\n",
    "               ])\n",
    "tuned_parameters = {\n",
    "    'vect__ngram_range': [(1, 1), (1, 2), (2, 2)],\n",
    "    'vect__stop_words':['english'],\n",
    "    'vect__encoding':['latin-1'],\n",
    "    'vect__min_df':[1,2,3],\n",
    "    'tfidf__use_idf': (True, False),\n",
    "    'tfidf__norm': ('l1', 'l2'),\n",
    "    'clf__loss': ['hinge', 'log', 'modified_huber', 'squared_hinge', 'perceptron'],\n",
    "    'clf__penalty':['l2', 'l1'],\n",
    "}\n",
    "\n",
    "clf = GridSearchCV(text_clf, tuned_parameters, cv=5, scoring=\"accuracy\")\n",
    "\n",
    "## Testing the model and printing the accuracy\n",
    "regr.fit(trainx, trainy)\n",
    "print(classification_report(testy, regr.predict(testx), digits=4))"
   ]
  },
  {
   "cell_type": "markdown",
   "id": "717e9a4b",
   "metadata": {},
   "source": [
    "# Random Forest "
   ]
  },
  {
   "cell_type": "code",
   "execution_count": 37,
   "id": "2e0ee410",
   "metadata": {
    "scrolled": false
   },
   "outputs": [
    {
     "name": "stdout",
     "output_type": "stream",
     "text": [
      "                precision    recall  f1-score   support\n",
      "\n",
      "           Bug     0.7397    0.7386    0.7392       681\n",
      "       Feature     0.6787    0.7597    0.7169       670\n",
      "        Rating     0.5967    0.7669    0.6712       708\n",
      "UserExperience     0.7261    0.4466    0.5530       730\n",
      "\n",
      "      accuracy                         0.6744      2789\n",
      "     macro avg     0.6853    0.6780    0.6701      2789\n",
      "  weighted avg     0.6852    0.6744    0.6678      2789\n",
      "\n"
     ]
    }
   ],
   "source": [
    "from sklearn.ensemble import RandomForestClassifier\n",
    "from sklearn.metrics import classification_report\n",
    "from sklearn.model_selection import train_test_split, GridSearchCV\n",
    "text_clf = Pipeline([('vect', CountVectorizer()),\n",
    "                ('tfidf', TfidfTransformer()),\n",
    "                ('clf', RandomForestClassifier(random_state=0)),\n",
    "               ])\n",
    "tuned_parameters = {\n",
    "    'vect__ngram_range': [(1, 1), (1, 2), (2, 2)],\n",
    "    'vect__stop_words':['english'],\n",
    "    'vect__encoding':['latin-1'],\n",
    "    'vect__min_df':[1,2,3],\n",
    "    'tfidf__use_idf': (True, False),\n",
    "    'tfidf__norm': ('l1', 'l2'),\n",
    "    'clf__max_depth': [3,4,5],\n",
    "    'clf__n_estimators':[200, 300],\n",
    "}\n",
    "\n",
    "from sklearn.metrics import classification_report\n",
    "clf = GridSearchCV(text_clf, tuned_parameters, cv=5, scoring=\"accuracy\")\n",
    "clf.fit(trainx, trainy)\n",
    "\n",
    "print(classification_report(testy, clf.predict(testx), digits=4))"
   ]
  },
  {
   "cell_type": "markdown",
   "id": "95c874f6",
   "metadata": {},
   "source": [
    "## <font color=orange> Notes"
   ]
  },
  {
   "cell_type": "markdown",
   "id": "188bfa77",
   "metadata": {},
   "source": [
    "#### <font color=orange>Undersampling using our method without libraries performed around 43% accuracy.\n",
    "        undersample(df);"
   ]
  },
  {
   "cell_type": "markdown",
   "id": "b3fc7d2b",
   "metadata": {},
   "source": [
    "#### <font color=orange>Use,\n",
    "    \n",
    "    from imblearn.over_sampling import RandomOverSampler\n",
    "    from imblearn.under_sampling import RandomUnderSampler\n",
    "#### <font color=orange>Then include it as follows:\n",
    "\n",
    "        text_clf = Pipeline([('vect', CountVectorizer()),\n",
    "                        ('tfidf', TfidfTransformer()),\n",
    "                        ('RUS', RandomOverSampler()),  *OR*  ('RUS', RandomUnderSampler()), \n",
    "                        ('clf', MultinomialNB())])"
   ]
  },
  {
   "cell_type": "markdown",
   "id": "6899f4a2",
   "metadata": {},
   "source": [
    "#### <font color=orange>Undersampling using library resulted in around 50% accuracy \n",
    "#### <font color=orange>Oversampling performed better at around 64% accuracy\n",
    "#### <font color=orange>However, our best result was through data augmenting by generating new parapharsed data. "
   ]
  },
  {
   "cell_type": "markdown",
   "id": "01b32c2e",
   "metadata": {},
   "source": [
    "## <center><font color=purple>8. Error Analysis & Possible Improvements <a class=\"anchor\" id=\"eighth-bullet\"></a>"
   ]
  },
  {
   "cell_type": "markdown",
   "id": "ac3144fa",
   "metadata": {},
   "source": [
    "# <font color=red> Possible Discussions :\n",
    "* Using different text augmentation\n",
    "* Oversampling Training data only instead of the whole dataset.( just to be safe)\n",
    "* Training RandomForest with tunned DecisionTree as base_estimator\n",
    "    \n",
    "# I DON\"T KNOW WHAT ELSE I JUST WORTE THESE QUICKLY, FEEL FREE TO ASK FOR EXPLAINATION :)\n"
   ]
  },
  {
   "cell_type": "markdown",
   "id": "dbf44e55",
   "metadata": {},
   "source": [
    "## <center><font color=purple>9. Final Results <a class=\"anchor\" id=\"ninth-bullet\"></a>"
   ]
  },
  {
   "cell_type": "markdown",
   "id": "35d983a9",
   "metadata": {},
   "source": [
    "# <font color=red> Summarize Classification Report for Each"
   ]
  },
  {
   "cell_type": "markdown",
   "id": "b87bdc7a",
   "metadata": {},
   "source": [
    "| Classifier| Accuracy |  |\n",
    "| --- | --- | --- |\n",
    "| Naive Bayes |  | 0.8351       |\n",
    "| Logisitc Regression |  | 0.8333       |\n",
    "| SVM SGD |  | 0.8612       |\n",
    "| SVM Linear |  | 0.8573       |\n",
    "| RandomForest |  | 0.6744       |"
   ]
  },
  {
   "cell_type": "markdown",
   "id": "c3a7198b",
   "metadata": {},
   "source": [
    "## <center><font color=purple>10. Conclusion <a class=\"anchor\" id=\"tenth-bullet\"></a>"
   ]
  },
  {
   "cell_type": "markdown",
   "id": "4dd81646",
   "metadata": {},
   "source": [
    "# <font color=red> Machine Learning is good.\n",
    "# <font color=red> Tunned Model performs better. \n",
    "# <font color=red> Talk About <font color=blue>\"TRASH IN TRASH OUT\"</font> CONCEPT JUST TO LOOK SMARTASS."
   ]
  }
 ],
 "metadata": {
  "kernelspec": {
   "display_name": "Python 3 (ipykernel)",
   "language": "python",
   "name": "python3"
  },
  "language_info": {
   "codemirror_mode": {
    "name": "ipython",
    "version": 3
   },
   "file_extension": ".py",
   "mimetype": "text/x-python",
   "name": "python",
   "nbconvert_exporter": "python",
   "pygments_lexer": "ipython3",
   "version": "3.8.12"
  }
 },
 "nbformat": 4,
 "nbformat_minor": 5
}
